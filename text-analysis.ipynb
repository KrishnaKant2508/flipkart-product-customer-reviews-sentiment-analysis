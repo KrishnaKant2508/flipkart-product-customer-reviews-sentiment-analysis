{
 "cells": [
  {
   "cell_type": "markdown",
   "metadata": {},
   "source": [
    "# **Setting up the environment**"
   ]
  },
  {
   "cell_type": "code",
   "execution_count": null,
   "metadata": {
    "execution": {
     "iopub.execute_input": "2023-03-22T08:02:12.935018Z",
     "iopub.status.busy": "2023-03-22T08:02:12.933660Z",
     "iopub.status.idle": "2023-03-22T08:02:12.968588Z",
     "shell.execute_reply": "2023-03-22T08:02:12.967710Z",
     "shell.execute_reply.started": "2023-03-22T08:02:12.934897Z"
    },
    "id": "qso3F35VdHjI"
   },
   "outputs": [],
   "source": [
    "import pandas as pd\n",
    "import numpy as np\n"
   ]
  },
  {
   "cell_type": "code",
   "execution_count": null,
   "metadata": {
    "execution": {
     "iopub.execute_input": "2023-03-22T08:02:12.971635Z",
     "iopub.status.busy": "2023-03-22T08:02:12.970896Z",
     "iopub.status.idle": "2023-03-22T08:02:14.025478Z",
     "shell.execute_reply": "2023-03-22T08:02:14.024095Z",
     "shell.execute_reply.started": "2023-03-22T08:02:12.971589Z"
    },
    "id": "l_Nxn8V3dHjP"
   },
   "outputs": [],
   "source": [
    "data = pd.read_csv(\"/kaggle/input/flipkart-product-customer-reviews-dataset/Dataset-SA.csv\")\n",
    "df = pd.DataFrame(data)"
   ]
  },
  {
   "cell_type": "markdown",
   "metadata": {},
   "source": [
    "# **Exploratory Data Analysis**"
   ]
  },
  {
   "cell_type": "code",
   "execution_count": null,
   "metadata": {
    "execution": {
     "iopub.execute_input": "2023-03-22T08:02:14.027435Z",
     "iopub.status.busy": "2023-03-22T08:02:14.027017Z",
     "iopub.status.idle": "2023-03-22T08:02:14.116363Z",
     "shell.execute_reply": "2023-03-22T08:02:14.115121Z",
     "shell.execute_reply.started": "2023-03-22T08:02:14.027391Z"
    },
    "id": "x7jd8gOsdHjS",
    "outputId": "0c379e1b-a758-4dfb-b2a6-f966cffbbd55"
   },
   "outputs": [],
   "source": [
    "data.info()"
   ]
  },
  {
   "cell_type": "code",
   "execution_count": null,
   "metadata": {
    "execution": {
     "iopub.execute_input": "2023-03-22T08:02:14.118351Z",
     "iopub.status.busy": "2023-03-22T08:02:14.118012Z",
     "iopub.status.idle": "2023-03-22T08:02:14.323252Z",
     "shell.execute_reply": "2023-03-22T08:02:14.322340Z",
     "shell.execute_reply.started": "2023-03-22T08:02:14.118319Z"
    },
    "id": "wmeY0IPfdHjV",
    "outputId": "7599a604-8fec-4b8d-e934-8153fe491998"
   },
   "outputs": [],
   "source": [
    "data.describe()"
   ]
  },
  {
   "cell_type": "code",
   "execution_count": null,
   "metadata": {
    "execution": {
     "iopub.execute_input": "2023-03-22T08:02:14.326595Z",
     "iopub.status.busy": "2023-03-22T08:02:14.325611Z",
     "iopub.status.idle": "2023-03-22T08:02:14.340634Z",
     "shell.execute_reply": "2023-03-22T08:02:14.339675Z",
     "shell.execute_reply.started": "2023-03-22T08:02:14.326563Z"
    },
    "id": "HFdojz1ydHjX",
    "outputId": "e6840bd8-be9a-4e33-c05a-902199ae10b5"
   },
   "outputs": [],
   "source": [
    "data.head()"
   ]
  },
  {
   "cell_type": "code",
   "execution_count": null,
   "metadata": {
    "execution": {
     "iopub.execute_input": "2023-03-22T08:02:14.342669Z",
     "iopub.status.busy": "2023-03-22T08:02:14.341796Z",
     "iopub.status.idle": "2023-03-22T08:02:14.861332Z",
     "shell.execute_reply": "2023-03-22T08:02:14.860073Z",
     "shell.execute_reply.started": "2023-03-22T08:02:14.342634Z"
    },
    "id": "GRKDzbcjdHj3"
   },
   "outputs": [],
   "source": [
    "import matplotlib.pyplot as plt\n",
    "import seaborn as sn\n",
    "%matplotlib inline"
   ]
  },
  {
   "cell_type": "code",
   "execution_count": null,
   "metadata": {
    "execution": {
     "iopub.execute_input": "2023-03-22T08:02:14.863987Z",
     "iopub.status.busy": "2023-03-22T08:02:14.863438Z",
     "iopub.status.idle": "2023-03-22T08:02:15.239128Z",
     "shell.execute_reply": "2023-03-22T08:02:15.238098Z",
     "shell.execute_reply.started": "2023-03-22T08:02:14.863935Z"
    },
    "id": "MK7GPfOZdHj5",
    "outputId": "d1cabe4d-f8e8-4c1a-d59c-4bd6bc349dac"
   },
   "outputs": [],
   "source": [
    "ax = sn.countplot(x='Sentiment',data=data)\n"
   ]
  },
  {
   "cell_type": "code",
   "execution_count": null,
   "metadata": {
    "execution": {
     "iopub.execute_input": "2023-03-22T08:02:15.241372Z",
     "iopub.status.busy": "2023-03-22T08:02:15.240993Z",
     "iopub.status.idle": "2023-03-22T08:02:15.246443Z",
     "shell.execute_reply": "2023-03-22T08:02:15.244951Z",
     "shell.execute_reply.started": "2023-03-22T08:02:15.241332Z"
    },
    "id": "HtvzzpsKdHkF"
   },
   "outputs": [],
   "source": [
    "#from sklearn.model_selection import train_test_split\n",
    "#train_set , test_set = train_test_split(data , test_size=0.2,random_state=42)"
   ]
  },
  {
   "cell_type": "code",
   "execution_count": 1,
   "metadata": {
    "execution": {
     "iopub.execute_input": "2023-03-22T08:02:15.248347Z",
     "iopub.status.busy": "2023-03-22T08:02:15.248020Z",
     "iopub.status.idle": "2023-03-22T08:02:15.282868Z",
     "shell.execute_reply": "2023-03-22T08:02:15.281773Z",
     "shell.execute_reply.started": "2023-03-22T08:02:15.248317Z"
    }
   },
   "outputs": [
    {
     "ename": "NameError",
     "evalue": "name 'data' is not defined",
     "output_type": "error",
     "traceback": [
      "\u001b[1;31m---------------------------------------------------------------------------\u001b[0m",
      "\u001b[1;31mNameError\u001b[0m                                 Traceback (most recent call last)",
      "Cell \u001b[1;32mIn[1], line 1\u001b[0m\n\u001b[1;32m----> 1\u001b[0m data \u001b[38;5;241m=\u001b[39m data[data\u001b[38;5;241m.\u001b[39mSentiment\u001b[38;5;241m.\u001b[39misin([\u001b[38;5;124m'\u001b[39m\u001b[38;5;124mneutral\u001b[39m\u001b[38;5;124m'\u001b[39m]) \u001b[38;5;241m==\u001b[39m \u001b[38;5;28;01mFalse\u001b[39;00m]\n\u001b[0;32m      2\u001b[0m df \u001b[38;5;241m=\u001b[39m pd\u001b[38;5;241m.\u001b[39mDataFrame(data)\n",
      "\u001b[1;31mNameError\u001b[0m: name 'data' is not defined"
     ]
    }
   ],
   "source": [
    "data = data[data.Sentiment.isin(['neutral']) == False]\n",
    "df = pd.DataFrame(data)"
   ]
  },
  {
   "cell_type": "code",
   "execution_count": null,
   "metadata": {
    "execution": {
     "iopub.execute_input": "2023-03-22T08:02:15.284543Z",
     "iopub.status.busy": "2023-03-22T08:02:15.284232Z",
     "iopub.status.idle": "2023-03-22T08:02:15.625861Z",
     "shell.execute_reply": "2023-03-22T08:02:15.624622Z",
     "shell.execute_reply.started": "2023-03-22T08:02:15.284515Z"
    },
    "id": "MK7GPfOZdHj5",
    "outputId": "d1cabe4d-f8e8-4c1a-d59c-4bd6bc349dac"
   },
   "outputs": [],
   "source": [
    "ax = sn.countplot(x='Sentiment',data=data)\n"
   ]
  },
  {
   "cell_type": "code",
   "execution_count": null,
   "metadata": {
    "execution": {
     "iopub.execute_input": "2023-03-22T08:02:15.627362Z",
     "iopub.status.busy": "2023-03-22T08:02:15.627029Z",
     "iopub.status.idle": "2023-03-22T08:02:15.648224Z",
     "shell.execute_reply": "2023-03-22T08:02:15.646967Z",
     "shell.execute_reply.started": "2023-03-22T08:02:15.627321Z"
    },
    "id": "-I-GriztdHkJ",
    "outputId": "a9f6d306-62cb-4489-ad9a-17f3b449037f"
   },
   "outputs": [],
   "source": [
    "data['Sentiment'].value_counts()"
   ]
  },
  {
   "cell_type": "code",
   "execution_count": null,
   "metadata": {
    "execution": {
     "iopub.execute_input": "2023-03-22T08:02:15.650397Z",
     "iopub.status.busy": "2023-03-22T08:02:15.649918Z",
     "iopub.status.idle": "2023-03-22T08:02:15.884333Z",
     "shell.execute_reply": "2023-03-22T08:02:15.882975Z",
     "shell.execute_reply.started": "2023-03-22T08:02:15.650363Z"
    },
    "id": "bOz3RZwCdHkL",
    "outputId": "3ca3a56a-2dc8-42f8-f0c5-44b0249de3a8"
   },
   "outputs": [],
   "source": [
    "df = df.fillna(df.mode().iloc[0])\n",
    "df.head()\n"
   ]
  },
  {
   "cell_type": "code",
   "execution_count": null,
   "metadata": {
    "execution": {
     "iopub.execute_input": "2023-03-22T08:02:15.886757Z",
     "iopub.status.busy": "2023-03-22T08:02:15.886227Z",
     "iopub.status.idle": "2023-03-22T08:02:15.965832Z",
     "shell.execute_reply": "2023-03-22T08:02:15.964461Z",
     "shell.execute_reply.started": "2023-03-22T08:02:15.886710Z"
    },
    "id": "m8eHczYjdHkP",
    "outputId": "edf173bb-3f0f-42f3-d430-1cc67d6b562a"
   },
   "outputs": [],
   "source": [
    "data = df\n",
    "data.info()"
   ]
  },
  {
   "cell_type": "markdown",
   "metadata": {},
   "source": [
    "# **Feature Transformations**"
   ]
  },
  {
   "cell_type": "code",
   "execution_count": null,
   "metadata": {
    "execution": {
     "iopub.execute_input": "2023-03-22T08:02:15.973214Z",
     "iopub.status.busy": "2023-03-22T08:02:15.972828Z",
     "iopub.status.idle": "2023-03-22T08:02:16.904411Z",
     "shell.execute_reply": "2023-03-22T08:02:16.903187Z",
     "shell.execute_reply.started": "2023-03-22T08:02:15.973181Z"
    },
    "id": "-V1-BbjjdHkR",
    "outputId": "800ff802-424d-41fe-e40e-af09f8ab75d3"
   },
   "outputs": [],
   "source": [
    "from sklearn.feature_extraction.text import CountVectorizer\n",
    "count_vectorizer = CountVectorizer()\n",
    "feature_vector = count_vectorizer.fit(data.Review)\n",
    "features = feature_vector.get_feature_names()\n",
    "print(\"Total number of features: \",len(features))"
   ]
  },
  {
   "cell_type": "code",
   "execution_count": null,
   "metadata": {
    "execution": {
     "iopub.execute_input": "2023-03-22T08:02:16.906924Z",
     "iopub.status.busy": "2023-03-22T08:02:16.906202Z",
     "iopub.status.idle": "2023-03-22T08:02:17.732105Z",
     "shell.execute_reply": "2023-03-22T08:02:17.730558Z",
     "shell.execute_reply.started": "2023-03-22T08:02:16.906859Z"
    },
    "id": "iPnviLutdHkT"
   },
   "outputs": [],
   "source": [
    "data_features = count_vectorizer.transform(data.Review)"
   ]
  },
  {
   "cell_type": "code",
   "execution_count": null,
   "metadata": {
    "execution": {
     "iopub.execute_input": "2023-03-22T08:02:17.734272Z",
     "iopub.status.busy": "2023-03-22T08:02:17.733726Z",
     "iopub.status.idle": "2023-03-22T08:02:17.742585Z",
     "shell.execute_reply": "2023-03-22T08:02:17.741121Z",
     "shell.execute_reply.started": "2023-03-22T08:02:17.734235Z"
    },
    "id": "txjpqFQVdHkV",
    "outputId": "b4bd8d96-308e-441d-c39a-012f71abce52"
   },
   "outputs": [],
   "source": [
    "data_features.shape"
   ]
  },
  {
   "cell_type": "code",
   "execution_count": null,
   "metadata": {
    "execution": {
     "iopub.execute_input": "2023-03-22T08:02:17.744848Z",
     "iopub.status.busy": "2023-03-22T08:02:17.744506Z",
     "iopub.status.idle": "2023-03-22T08:02:17.754559Z",
     "shell.execute_reply": "2023-03-22T08:02:17.753173Z",
     "shell.execute_reply.started": "2023-03-22T08:02:17.744818Z"
    },
    "id": "_DqSBNv7dHkX",
    "outputId": "bf4b0519-2ff4-46c4-ef2b-167c4411c364"
   },
   "outputs": [],
   "source": [
    "data_features.getnnz()"
   ]
  },
  {
   "cell_type": "code",
   "execution_count": null,
   "metadata": {
    "execution": {
     "iopub.execute_input": "2023-03-22T08:02:17.757121Z",
     "iopub.status.busy": "2023-03-22T08:02:17.756557Z",
     "iopub.status.idle": "2023-03-22T08:02:17.765192Z",
     "shell.execute_reply": "2023-03-22T08:02:17.763714Z",
     "shell.execute_reply.started": "2023-03-22T08:02:17.757075Z"
    },
    "id": "RI9BIxZadHkY",
    "outputId": "62998cff-9d27-4eb1-a280-7c48bf8913d3"
   },
   "outputs": [],
   "source": [
    "print(\"Density of the matrix: \",\n",
    "    data_features.getnnz()*100 /  \n",
    "    (data_features.shape[0]* data_features.shape[1]))\n"
   ]
  },
  {
   "cell_type": "code",
   "execution_count": null,
   "metadata": {
    "execution": {
     "iopub.execute_input": "2023-03-22T08:02:17.768002Z",
     "iopub.status.busy": "2023-03-22T08:02:17.767482Z",
     "iopub.status.idle": "2023-03-22T08:02:18.631777Z",
     "shell.execute_reply": "2023-03-22T08:02:18.630666Z",
     "shell.execute_reply.started": "2023-03-22T08:02:17.767957Z"
    },
    "id": "nOMJt8zpdHka"
   },
   "outputs": [],
   "source": [
    "data_df = pd.DataFrame(data_features.todense())\n",
    "data_df.columns = features"
   ]
  },
  {
   "cell_type": "code",
   "execution_count": null,
   "metadata": {
    "execution": {
     "iopub.execute_input": "2023-03-22T08:02:18.633271Z",
     "iopub.status.busy": "2023-03-22T08:02:18.632944Z",
     "iopub.status.idle": "2023-03-22T08:02:18.647817Z",
     "shell.execute_reply": "2023-03-22T08:02:18.646419Z",
     "shell.execute_reply.started": "2023-03-22T08:02:18.633242Z"
    },
    "id": "TR_dGD9BdHkb",
    "outputId": "b7494049-1d30-4f0e-cc03-45c2af1a076c"
   },
   "outputs": [],
   "source": [
    "data[0:1]"
   ]
  },
  {
   "cell_type": "code",
   "execution_count": null,
   "metadata": {
    "execution": {
     "iopub.execute_input": "2023-03-22T08:02:18.650703Z",
     "iopub.status.busy": "2023-03-22T08:02:18.650056Z",
     "iopub.status.idle": "2023-03-22T08:02:18.665041Z",
     "shell.execute_reply": "2023-03-22T08:02:18.663556Z",
     "shell.execute_reply.started": "2023-03-22T08:02:18.650658Z"
    },
    "id": "sq-AjT-2gXsL",
    "outputId": "2782f445-905f-4be8-c1bd-ac5ed5b464bb"
   },
   "outputs": [],
   "source": [
    "data_df.iloc[:1,150:157]"
   ]
  },
  {
   "cell_type": "code",
   "execution_count": null,
   "metadata": {
    "execution": {
     "iopub.execute_input": "2023-03-22T08:02:18.666996Z",
     "iopub.status.busy": "2023-03-22T08:02:18.666591Z",
     "iopub.status.idle": "2023-03-22T08:02:20.037151Z",
     "shell.execute_reply": "2023-03-22T08:02:20.035930Z",
     "shell.execute_reply.started": "2023-03-22T08:02:18.666962Z"
    },
    "id": "3ZkcJUpLhF1E"
   },
   "outputs": [],
   "source": [
    "features_counts = np.sum(data_features.toarray(), axis = 0)\n",
    "features_counts_df = pd.DataFrame(dict(features = features , counts = features_counts))"
   ]
  },
  {
   "cell_type": "code",
   "execution_count": null,
   "metadata": {
    "execution": {
     "iopub.execute_input": "2023-03-22T08:02:20.038661Z",
     "iopub.status.busy": "2023-03-22T08:02:20.038348Z",
     "iopub.status.idle": "2023-03-22T08:02:20.373181Z",
     "shell.execute_reply": "2023-03-22T08:02:20.371732Z",
     "shell.execute_reply.started": "2023-03-22T08:02:20.038632Z"
    },
    "id": "yjlRVY7chZqw",
    "outputId": "f4eaf86b-5505-45da-cf0c-96098ca677e5"
   },
   "outputs": [],
   "source": [
    "plt.figure(figsize=(12,5))\n",
    "plt.hist(features_counts_df.counts , bins=50 , range = (0 ,5000))\n",
    "plt.xlabel('Frequency of words')\n",
    "plt.ylabel('Density')"
   ]
  },
  {
   "cell_type": "code",
   "execution_count": null,
   "metadata": {
    "execution": {
     "iopub.execute_input": "2023-03-22T08:02:20.375256Z",
     "iopub.status.busy": "2023-03-22T08:02:20.374617Z",
     "iopub.status.idle": "2023-03-22T08:02:20.384268Z",
     "shell.execute_reply": "2023-03-22T08:02:20.383085Z",
     "shell.execute_reply.started": "2023-03-22T08:02:20.375222Z"
    },
    "id": "tOA5EJTnh7eA",
    "outputId": "3786a7f3-777a-480e-d97d-c79d1fe12d4a"
   },
   "outputs": [],
   "source": [
    "len(features_counts_df[features_counts_df.counts == 1])\n"
   ]
  },
  {
   "cell_type": "code",
   "execution_count": null,
   "metadata": {
    "execution": {
     "iopub.execute_input": "2023-03-22T08:02:20.386261Z",
     "iopub.status.busy": "2023-03-22T08:02:20.385801Z",
     "iopub.status.idle": "2023-03-22T08:02:23.411918Z",
     "shell.execute_reply": "2023-03-22T08:02:23.410513Z",
     "shell.execute_reply.started": "2023-03-22T08:02:20.386212Z"
    },
    "id": "ogx4Hj_NiVpk",
    "outputId": "352a33f1-7bb4-4d2f-f85a-3cb68fd3eec0"
   },
   "outputs": [],
   "source": [
    "count_vectorizer = CountVectorizer(max_features=10000)\n",
    "feature_vector = count_vectorizer.fit(data.Review)\n",
    "features = feature_vector.get_feature_names()\n",
    "data_features = count_vectorizer.transform(data.Review)\n",
    "features_counts = np.sum(data_features.toarray() , axis = 0)\n",
    "feature_counts = pd.DataFrame(dict(features = features , counts = features_counts))"
   ]
  },
  {
   "cell_type": "code",
   "execution_count": null,
   "metadata": {
    "execution": {
     "iopub.execute_input": "2023-03-22T08:02:23.414366Z",
     "iopub.status.busy": "2023-03-22T08:02:23.413859Z",
     "iopub.status.idle": "2023-03-22T08:02:23.428850Z",
     "shell.execute_reply": "2023-03-22T08:02:23.427580Z",
     "shell.execute_reply.started": "2023-03-22T08:02:23.414311Z"
    },
    "id": "RQRU3cYAjo5t",
    "outputId": "23b05586-2827-497e-dac6-1e51dadd2339"
   },
   "outputs": [],
   "source": [
    "feature_counts.sort_values('counts',ascending = False)[0:15]"
   ]
  },
  {
   "cell_type": "code",
   "execution_count": null,
   "metadata": {
    "execution": {
     "iopub.execute_input": "2023-03-22T08:02:23.431096Z",
     "iopub.status.busy": "2023-03-22T08:02:23.430744Z",
     "iopub.status.idle": "2023-03-22T08:02:24.091808Z",
     "shell.execute_reply": "2023-03-22T08:02:24.090439Z",
     "shell.execute_reply.started": "2023-03-22T08:02:23.431065Z"
    },
    "id": "voX4uuJbmqHb",
    "outputId": "aebbfe41-1815-4c1b-c83e-8d8ed4a625fd"
   },
   "outputs": [],
   "source": [
    "\n",
    "from nltk.corpus import stopwords\n",
    "import nltk\n",
    "nltk.download('stopwords')\n",
    "\n",
    "english_stop_words = stopwords.words('english')"
   ]
  },
  {
   "cell_type": "code",
   "execution_count": null,
   "metadata": {
    "execution": {
     "iopub.execute_input": "2023-03-22T08:02:24.093863Z",
     "iopub.status.busy": "2023-03-22T08:02:24.093404Z",
     "iopub.status.idle": "2023-03-22T08:02:24.103960Z",
     "shell.execute_reply": "2023-03-22T08:02:24.102418Z",
     "shell.execute_reply.started": "2023-03-22T08:02:24.093829Z"
    },
    "id": "UnWs7DgFnrv2",
    "outputId": "66175931-a51c-491d-8de7-608e768f3aa3"
   },
   "outputs": [],
   "source": [
    "data['Review'][0:5]"
   ]
  },
  {
   "cell_type": "code",
   "execution_count": null,
   "metadata": {
    "execution": {
     "iopub.execute_input": "2023-03-22T08:02:24.106498Z",
     "iopub.status.busy": "2023-03-22T08:02:24.105944Z",
     "iopub.status.idle": "2023-03-22T08:02:27.156468Z",
     "shell.execute_reply": "2023-03-22T08:02:27.155259Z",
     "shell.execute_reply.started": "2023-03-22T08:02:24.106449Z"
    },
    "id": "3VT-DvOqn-hN",
    "outputId": "1d3c1dbe-cd5a-4a0f-c682-364f557461ea"
   },
   "outputs": [],
   "source": [
    "count_vectorizer = CountVectorizer(stop_words=english_stop_words , max_features = 10000)\n",
    "feature_vector = count_vectorizer.fit(data.Review)\n",
    "data_features = count_vectorizer.transform(data.Review)\n",
    "features = feature_vector.get_feature_names()\n",
    "features_counts = np.sum(data_features.toarray() , axis=0)\n",
    "feature_counts = pd.DataFrame(dict(features = features , counts = features_counts))\n"
   ]
  },
  {
   "cell_type": "code",
   "execution_count": null,
   "metadata": {
    "execution": {
     "iopub.execute_input": "2023-03-22T08:02:27.158368Z",
     "iopub.status.busy": "2023-03-22T08:02:27.158034Z",
     "iopub.status.idle": "2023-03-22T08:02:27.173702Z",
     "shell.execute_reply": "2023-03-22T08:02:27.171831Z",
     "shell.execute_reply.started": "2023-03-22T08:02:27.158338Z"
    },
    "id": "h5vuF2S1o6nE",
    "outputId": "14dff0ad-8527-42ed-a87b-61cd08ba1f86"
   },
   "outputs": [],
   "source": [
    "feature_counts.sort_values(\"counts\",ascending = False)[0:15]"
   ]
  },
  {
   "cell_type": "code",
   "execution_count": null,
   "metadata": {
    "execution": {
     "iopub.execute_input": "2023-03-22T08:02:27.176510Z",
     "iopub.status.busy": "2023-03-22T08:02:27.175625Z",
     "iopub.status.idle": "2023-03-22T08:02:27.184338Z",
     "shell.execute_reply": "2023-03-22T08:02:27.182970Z",
     "shell.execute_reply.started": "2023-03-22T08:02:27.176445Z"
    },
    "id": "qbrFSCw5pIIU"
   },
   "outputs": [],
   "source": [
    "from nltk.stem.snowball import PorterStemmer\n",
    "stemmer = PorterStemmer()\n",
    "analyzer = CountVectorizer().build_analyzer()\n",
    "def stemmed_words(doc):\n",
    "  stemmed_words = [stemmer.stem(w) for w in analyzer(doc)]\n",
    "  non_stop_words = [word for word in stemmed_words ]\n",
    "  return non_stop_words"
   ]
  },
  {
   "cell_type": "code",
   "execution_count": null,
   "metadata": {
    "execution": {
     "iopub.execute_input": "2023-03-22T08:02:27.186082Z",
     "iopub.status.busy": "2023-03-22T08:02:27.185717Z",
     "iopub.status.idle": "2023-03-22T08:02:52.040754Z",
     "shell.execute_reply": "2023-03-22T08:02:52.039296Z",
     "shell.execute_reply.started": "2023-03-22T08:02:27.186050Z"
    },
    "id": "5lIiN0egqf8S",
    "outputId": "0a1c20d9-bb0d-44bc-9d6e-ec5b2e6d9e0e"
   },
   "outputs": [],
   "source": [
    "count_vectorizer = CountVectorizer(analyzer = stemmed_words , max_features = 10000)\n",
    "feature_vector = count_vectorizer.fit(data.Review)\n",
    "data_features = count_vectorizer.transform(data.Review)\n",
    "features = feature_vector.get_feature_names()\n",
    "features_counts = np.sum(data_features.toarray() , axis=0)\n",
    "feature_counts = pd.DataFrame(dict(features = features , counts = features_counts))\n"
   ]
  },
  {
   "cell_type": "code",
   "execution_count": null,
   "metadata": {
    "execution": {
     "iopub.execute_input": "2023-03-22T08:02:52.043773Z",
     "iopub.status.busy": "2023-03-22T08:02:52.042401Z",
     "iopub.status.idle": "2023-03-22T08:02:52.057144Z",
     "shell.execute_reply": "2023-03-22T08:02:52.055947Z",
     "shell.execute_reply.started": "2023-03-22T08:02:52.043727Z"
    },
    "id": "uCccGL9br_Nj",
    "outputId": "f6aa9219-f477-4a84-a6dc-b99701400de7"
   },
   "outputs": [],
   "source": [
    "feature_counts.sort_values(\"counts\",ascending = False)[0:15]"
   ]
  },
  {
   "cell_type": "code",
   "execution_count": null,
   "metadata": {
    "execution": {
     "iopub.execute_input": "2023-03-22T08:02:52.058839Z",
     "iopub.status.busy": "2023-03-22T08:02:52.058515Z",
     "iopub.status.idle": "2023-03-22T08:02:52.982044Z",
     "shell.execute_reply": "2023-03-22T08:02:52.980958Z",
     "shell.execute_reply.started": "2023-03-22T08:02:52.058810Z"
    },
    "id": "eD15OzHxsQgi"
   },
   "outputs": [],
   "source": [
    "data_df = pd.DataFrame(data_features.todense())\n",
    "data_df.columns = features\n",
    "data_df['Sentiment'] = data.Sentiment"
   ]
  },
  {
   "cell_type": "markdown",
   "metadata": {},
   "source": [
    "# **Model training and analysis**"
   ]
  },
  {
   "cell_type": "code",
   "execution_count": null,
   "metadata": {
    "execution": {
     "iopub.execute_input": "2023-03-22T08:02:52.983623Z",
     "iopub.status.busy": "2023-03-22T08:02:52.983325Z",
     "iopub.status.idle": "2023-03-22T08:02:53.034361Z",
     "shell.execute_reply": "2023-03-22T08:02:53.033412Z",
     "shell.execute_reply.started": "2023-03-22T08:02:52.983596Z"
    },
    "id": "GfEK4HKXsq-9"
   },
   "outputs": [],
   "source": [
    "from sklearn.model_selection import train_test_split\n",
    "X_train , X_test , Y_train , Y_test = train_test_split(data_features,data.Sentiment,test_size=0.2,random_state=42)"
   ]
  },
  {
   "cell_type": "code",
   "execution_count": null,
   "metadata": {
    "execution": {
     "iopub.execute_input": "2023-03-22T08:02:53.036487Z",
     "iopub.status.busy": "2023-03-22T08:02:53.035914Z",
     "iopub.status.idle": "2023-03-22T08:02:58.584788Z",
     "shell.execute_reply": "2023-03-22T08:02:58.583425Z",
     "shell.execute_reply.started": "2023-03-22T08:02:53.036454Z"
    },
    "id": "wvZ8ceabuKaU"
   },
   "outputs": [],
   "source": [
    "from sklearn.naive_bayes import BernoulliNB\n",
    "nb_clf1 = BernoulliNB()\n",
    "nb_clf1.fit(X_train.toarray(),Y_train)"
   ]
  },
  {
   "cell_type": "code",
   "execution_count": null,
   "metadata": {
    "execution": {
     "iopub.execute_input": "2023-03-22T08:02:58.588281Z",
     "iopub.status.busy": "2023-03-22T08:02:58.586617Z",
     "iopub.status.idle": "2023-03-22T08:02:59.475123Z",
     "shell.execute_reply": "2023-03-22T08:02:59.473474Z",
     "shell.execute_reply.started": "2023-03-22T08:02:58.588235Z"
    },
    "id": "3X2c8Gt6ugA0"
   },
   "outputs": [],
   "source": [
    "test_predicted = nb_clf1.predict(X_test.toarray())"
   ]
  },
  {
   "cell_type": "code",
   "execution_count": null,
   "metadata": {
    "execution": {
     "iopub.execute_input": "2023-03-22T08:02:59.479133Z",
     "iopub.status.busy": "2023-03-22T08:02:59.478023Z",
     "iopub.status.idle": "2023-03-22T08:03:00.911929Z",
     "shell.execute_reply": "2023-03-22T08:03:00.910874Z",
     "shell.execute_reply.started": "2023-03-22T08:02:59.479072Z"
    }
   },
   "outputs": [],
   "source": [
    "from sklearn import metrics\n",
    "print(metrics.classification_report(Y_test,test_predicted))"
   ]
  },
  {
   "cell_type": "code",
   "execution_count": null,
   "metadata": {
    "execution": {
     "iopub.execute_input": "2023-03-22T08:03:00.916614Z",
     "iopub.status.busy": "2023-03-22T08:03:00.916260Z",
     "iopub.status.idle": "2023-03-22T08:03:01.372514Z",
     "shell.execute_reply": "2023-03-22T08:03:01.370956Z",
     "shell.execute_reply.started": "2023-03-22T08:03:00.916585Z"
    }
   },
   "outputs": [],
   "source": [
    "cm = metrics.confusion_matrix(Y_test,test_predicted)\n",
    "sn.heatmap(cm, annot=True , fmt='.2f')"
   ]
  },
  {
   "cell_type": "code",
   "execution_count": null,
   "metadata": {
    "execution": {
     "iopub.execute_input": "2023-03-22T08:03:01.374986Z",
     "iopub.status.busy": "2023-03-22T08:03:01.374565Z",
     "iopub.status.idle": "2023-03-22T08:03:24.949554Z",
     "shell.execute_reply": "2023-03-22T08:03:24.948094Z",
     "shell.execute_reply.started": "2023-03-22T08:03:01.374946Z"
    }
   },
   "outputs": [],
   "source": [
    "from sklearn.feature_extraction.text import TfidfVectorizer\n",
    "tfidf_vectorizer = TfidfVectorizer(analyzer = stemmed_words , max_features = 10000)\n",
    "feature_vector = tfidf_vectorizer.fit(data.Review)\n",
    "data_features = tfidf_vectorizer.transform(data.Review)\n",
    "features = feature_vector.get_feature_names()\n"
   ]
  },
  {
   "cell_type": "code",
   "execution_count": null,
   "metadata": {
    "execution": {
     "iopub.execute_input": "2023-03-22T08:03:24.957094Z",
     "iopub.status.busy": "2023-03-22T08:03:24.956720Z",
     "iopub.status.idle": "2023-03-22T08:03:24.962350Z",
     "shell.execute_reply": "2023-03-22T08:03:24.961207Z",
     "shell.execute_reply.started": "2023-03-22T08:03:24.957062Z"
    }
   },
   "outputs": [],
   "source": [
    "from sklearn.metrics import accuracy_score"
   ]
  },
  {
   "cell_type": "code",
   "execution_count": null,
   "metadata": {
    "execution": {
     "iopub.execute_input": "2023-03-22T08:03:24.964166Z",
     "iopub.status.busy": "2023-03-22T08:03:24.963789Z",
     "iopub.status.idle": "2023-03-22T08:03:25.069355Z",
     "shell.execute_reply": "2023-03-22T08:03:25.067756Z",
     "shell.execute_reply.started": "2023-03-22T08:03:24.964133Z"
    }
   },
   "outputs": [],
   "source": [
    "print('Accuracy of the model: {0}%'.format(accuracy_score(Y_test,test_predicted)*100))"
   ]
  },
  {
   "cell_type": "code",
   "execution_count": null,
   "metadata": {
    "execution": {
     "iopub.execute_input": "2023-03-22T08:03:25.071807Z",
     "iopub.status.busy": "2023-03-22T08:03:25.071278Z",
     "iopub.status.idle": "2023-03-22T08:03:25.115284Z",
     "shell.execute_reply": "2023-03-22T08:03:25.113935Z",
     "shell.execute_reply.started": "2023-03-22T08:03:25.071762Z"
    }
   },
   "outputs": [],
   "source": [
    "\n",
    "from sklearn.naive_bayes import GaussianNB\n",
    "X_train , X_test , Y_train , Y_test = train_test_split(data_features,data.Sentiment,test_size=0.2,random_state=42)\n"
   ]
  },
  {
   "cell_type": "code",
   "execution_count": null,
   "metadata": {
    "execution": {
     "iopub.execute_input": "2023-03-22T08:03:25.117125Z",
     "iopub.status.busy": "2023-03-22T08:03:25.116770Z",
     "iopub.status.idle": "2023-03-22T08:03:29.984302Z",
     "shell.execute_reply": "2023-03-22T08:03:29.982930Z",
     "shell.execute_reply.started": "2023-03-22T08:03:25.117094Z"
    }
   },
   "outputs": [],
   "source": [
    "nb_clf2 = GaussianNB()\n",
    "nb_clf2.fit(X_train.toarray(),Y_train)"
   ]
  },
  {
   "cell_type": "code",
   "execution_count": null,
   "metadata": {
    "execution": {
     "iopub.execute_input": "2023-03-22T08:03:29.986583Z",
     "iopub.status.busy": "2023-03-22T08:03:29.986085Z",
     "iopub.status.idle": "2023-03-22T08:03:31.327829Z",
     "shell.execute_reply": "2023-03-22T08:03:31.326543Z",
     "shell.execute_reply.started": "2023-03-22T08:03:29.986531Z"
    },
    "id": "3X2c8Gt6ugA0"
   },
   "outputs": [],
   "source": [
    "test_predicted = nb_clf2.predict(X_test.toarray())"
   ]
  },
  {
   "cell_type": "code",
   "execution_count": null,
   "metadata": {
    "execution": {
     "iopub.execute_input": "2023-03-22T08:03:31.330464Z",
     "iopub.status.busy": "2023-03-22T08:03:31.329653Z",
     "iopub.status.idle": "2023-03-22T08:03:32.764590Z",
     "shell.execute_reply": "2023-03-22T08:03:32.763382Z",
     "shell.execute_reply.started": "2023-03-22T08:03:31.330408Z"
    }
   },
   "outputs": [],
   "source": [
    "from sklearn import metrics\n",
    "print(metrics.classification_report(Y_test,test_predicted))"
   ]
  },
  {
   "cell_type": "code",
   "execution_count": null,
   "metadata": {
    "execution": {
     "iopub.execute_input": "2023-03-22T08:03:32.767150Z",
     "iopub.status.busy": "2023-03-22T08:03:32.766123Z",
     "iopub.status.idle": "2023-03-22T08:03:33.198849Z",
     "shell.execute_reply": "2023-03-22T08:03:33.198058Z",
     "shell.execute_reply.started": "2023-03-22T08:03:32.767106Z"
    }
   },
   "outputs": [],
   "source": [
    "cm = metrics.confusion_matrix(Y_test,test_predicted)\n",
    "sn.heatmap(cm, annot=True , fmt='.2f')"
   ]
  },
  {
   "cell_type": "code",
   "execution_count": null,
   "metadata": {
    "execution": {
     "iopub.execute_input": "2023-03-22T08:03:33.200662Z",
     "iopub.status.busy": "2023-03-22T08:03:33.200183Z",
     "iopub.status.idle": "2023-03-22T08:03:33.293933Z",
     "shell.execute_reply": "2023-03-22T08:03:33.292514Z",
     "shell.execute_reply.started": "2023-03-22T08:03:33.200633Z"
    }
   },
   "outputs": [],
   "source": [
    "print('Accuracy of the model: {0}%'.format(accuracy_score(Y_test,test_predicted)*100))"
   ]
  },
  {
   "cell_type": "code",
   "execution_count": null,
   "metadata": {
    "execution": {
     "iopub.execute_input": "2023-03-22T08:03:33.296133Z",
     "iopub.status.busy": "2023-03-22T08:03:33.295650Z",
     "iopub.status.idle": "2023-03-22T08:03:33.304504Z",
     "shell.execute_reply": "2023-03-22T08:03:33.303158Z",
     "shell.execute_reply.started": "2023-03-22T08:03:33.296090Z"
    }
   },
   "outputs": [],
   "source": [
    "from nltk.stem import PorterStemmer\n",
    "import re\n",
    "stemmer = PorterStemmer()\n",
    "def get_stemmed_tokens(doc):\n",
    "  all_tokens = [word for word in nltk.word_tokenize(doc)]\n",
    "  clean_tokens=[]\n",
    "  for each_token in all_tokens:\n",
    "    if re.search('[a-zA-Z]',each_token):\n",
    "        clean_tokens.append(each_token)\n",
    "  stemmed_tokens = [stemmer.stem(t) for t in clean_tokens]\n",
    "  return stemmed_tokens"
   ]
  },
  {
   "cell_type": "code",
   "execution_count": null,
   "metadata": {
    "execution": {
     "iopub.execute_input": "2023-03-22T08:03:33.306933Z",
     "iopub.status.busy": "2023-03-22T08:03:33.306437Z",
     "iopub.status.idle": "2023-03-22T08:04:34.589557Z",
     "shell.execute_reply": "2023-03-22T08:04:34.588021Z",
     "shell.execute_reply.started": "2023-03-22T08:03:33.306844Z"
    }
   },
   "outputs": [],
   "source": [
    "tfidf_vectorizer = TfidfVectorizer(stop_words ='english' , max_features = 10000 , tokenizer=get_stemmed_tokens , ngram_range=(1,2))\n",
    "feature_vector = tfidf_vectorizer.fit(data.Review)\n",
    "data_features = tfidf_vectorizer.transform(data.Review)\n",
    "features = feature_vector.get_feature_names()"
   ]
  },
  {
   "cell_type": "code",
   "execution_count": null,
   "metadata": {
    "execution": {
     "iopub.execute_input": "2023-03-22T08:04:34.592194Z",
     "iopub.status.busy": "2023-03-22T08:04:34.591687Z",
     "iopub.status.idle": "2023-03-22T08:04:45.768682Z",
     "shell.execute_reply": "2023-03-22T08:04:45.767350Z",
     "shell.execute_reply.started": "2023-03-22T08:04:34.592148Z"
    }
   },
   "outputs": [],
   "source": [
    "X_train , X_test , Y_train , Y_test = train_test_split(data_features,data.Sentiment,test_size=0.2,random_state=42)\n",
    "nb_clf3 = BernoulliNB()\n",
    "nb_clf3.fit(X_train.toarray(),Y_train)\n",
    "test_predicted = nb_clf3.predict(X_test.toarray())\n",
    "print(metrics.classification_report(Y_test,test_predicted))"
   ]
  },
  {
   "cell_type": "code",
   "execution_count": null,
   "metadata": {
    "execution": {
     "iopub.execute_input": "2023-03-22T08:04:45.770690Z",
     "iopub.status.busy": "2023-03-22T08:04:45.770245Z",
     "iopub.status.idle": "2023-03-22T08:04:46.206585Z",
     "shell.execute_reply": "2023-03-22T08:04:46.205095Z",
     "shell.execute_reply.started": "2023-03-22T08:04:45.770659Z"
    }
   },
   "outputs": [],
   "source": [
    "cm = metrics.confusion_matrix(Y_test,test_predicted)\n",
    "sn.heatmap(cm, annot=True , fmt='.2f')"
   ]
  },
  {
   "cell_type": "code",
   "execution_count": null,
   "metadata": {
    "execution": {
     "iopub.execute_input": "2023-03-22T08:04:46.208776Z",
     "iopub.status.busy": "2023-03-22T08:04:46.208455Z",
     "iopub.status.idle": "2023-03-22T08:04:46.303196Z",
     "shell.execute_reply": "2023-03-22T08:04:46.301873Z",
     "shell.execute_reply.started": "2023-03-22T08:04:46.208747Z"
    }
   },
   "outputs": [],
   "source": [
    "print('Accuracy of the model: {0}%'.format(accuracy_score(Y_test,test_predicted)*100))"
   ]
  },
  {
   "cell_type": "markdown",
   "metadata": {},
   "source": [
    "# **Predictions**"
   ]
  },
  {
   "cell_type": "code",
   "execution_count": null,
   "metadata": {
    "execution": {
     "iopub.execute_input": "2023-03-22T08:07:08.796498Z",
     "iopub.status.busy": "2023-03-22T08:07:08.795951Z",
     "iopub.status.idle": "2023-03-22T08:07:08.808383Z",
     "shell.execute_reply": "2023-03-22T08:07:08.807149Z",
     "shell.execute_reply.started": "2023-03-22T08:07:08.796456Z"
    }
   },
   "outputs": [],
   "source": [
    "x = tfidf_vectorizer.transform(['I am a good boy'])\n",
    "nb_clf3.predict(x)"
   ]
  }
 ],
 "metadata": {
  "kernelspec": {
   "display_name": "Python 3 (ipykernel)",
   "language": "python",
   "name": "python3"
  },
  "language_info": {
   "codemirror_mode": {
    "name": "ipython",
    "version": 3
   },
   "file_extension": ".py",
   "mimetype": "text/x-python",
   "name": "python",
   "nbconvert_exporter": "python",
   "pygments_lexer": "ipython3",
   "version": "3.11.5"
  }
 },
 "nbformat": 4,
 "nbformat_minor": 4
}
