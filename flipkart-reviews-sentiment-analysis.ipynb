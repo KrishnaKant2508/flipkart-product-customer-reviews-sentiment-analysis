{
 "cells": [
  {
   "cell_type": "markdown",
   "metadata": {},
   "source": [
    "# Introduction\n",
    "\n",
    "- [Flipkart](https://www.flipkart.com/) is one of the most popular Indian companies. \n",
    "\n",
    "- India's biggest online store for Mobiles, Fashion (Clothes/Shoes), Electronics, Home Appliances, Books, Home, Furniture, Grocery, Jewelry, Sporting goods,...\n",
    "\n",
    "- It is an e-commerce platform that competes with popular e-commerce platforms like [Amazon.](https://www.amazon.com/) \n",
    "\n",
    "- One of the most popular use cases of data science is the task of sentiment analysis of product reviews sold on e-commerce platforms."
   ]
  },
  {
   "cell_type": "markdown",
   "metadata": {},
   "source": [
    "# 10 ways to increase your sales on Flipkart\n",
    "\n",
    "1. Product Listing Ads\n",
    "2. Participate in spike sales\n",
    "3. Good packaging\n",
    "4. Better cataloging\n",
    "5. Stick to the rules\n",
    "6. Stock up your inventory\n",
    "7. Deliver on time\n",
    "8. Images\n",
    "9. Become a Flipkart Advantage seller\n",
    "10. Keep customer delight a priority\n",
    "\n",
    "Ref: [flipkart](https://seller.flipkart.com/slp/content/10-ways-increase-your-sales-flipkart)"
   ]
  },
  {
   "cell_type": "markdown",
   "metadata": {},
   "source": [
    "# Import Libraries"
   ]
  },
  {
   "cell_type": "code",
   "execution_count": null,
   "metadata": {
    "execution": {
     "iopub.execute_input": "2023-09-25T16:07:31.729964Z",
     "iopub.status.busy": "2023-09-25T16:07:31.729490Z",
     "iopub.status.idle": "2023-09-25T16:07:34.052745Z",
     "shell.execute_reply": "2023-09-25T16:07:34.051474Z",
     "shell.execute_reply.started": "2023-09-25T16:07:31.729918Z"
    }
   },
   "outputs": [],
   "source": [
    "import pandas as pd\n",
    "import seaborn as sns\n",
    "import matplotlib.pyplot as plt\n",
    "from nltk.sentiment.vader import SentimentIntensityAnalyzer\n",
    "from wordcloud import WordCloud, STOPWORDS, ImageColorGenerator"
   ]
  },
  {
   "cell_type": "markdown",
   "metadata": {},
   "source": [
    "# Read Data"
   ]
  },
  {
   "cell_type": "code",
   "execution_count": null,
   "metadata": {
    "execution": {
     "iopub.execute_input": "2023-09-25T16:07:34.056277Z",
     "iopub.status.busy": "2023-09-25T16:07:34.055021Z",
     "iopub.status.idle": "2023-09-25T16:07:35.267699Z",
     "shell.execute_reply": "2023-09-25T16:07:35.264555Z",
     "shell.execute_reply.started": "2023-09-25T16:07:34.056225Z"
    }
   },
   "outputs": [],
   "source": [
    "data = pd.read_csv(\"/kaggle/input/flipkart-product-customer-reviews-dataset/Dataset-SA.csv\")"
   ]
  },
  {
   "cell_type": "code",
   "execution_count": null,
   "metadata": {
    "execution": {
     "iopub.execute_input": "2023-09-25T16:07:35.270511Z",
     "iopub.status.busy": "2023-09-25T16:07:35.269616Z",
     "iopub.status.idle": "2023-09-25T16:07:35.301702Z",
     "shell.execute_reply": "2023-09-25T16:07:35.300726Z",
     "shell.execute_reply.started": "2023-09-25T16:07:35.270463Z"
    }
   },
   "outputs": [],
   "source": [
    "print(data.head())"
   ]
  },
  {
   "cell_type": "markdown",
   "metadata": {},
   "source": [
    "- This dataset contains only three columns. Let’s have a look at whether any of these columns contains missing values or not:"
   ]
  },
  {
   "cell_type": "code",
   "execution_count": null,
   "metadata": {
    "execution": {
     "iopub.execute_input": "2023-09-25T16:07:35.306613Z",
     "iopub.status.busy": "2023-09-25T16:07:35.304982Z",
     "iopub.status.idle": "2023-09-25T16:07:35.907240Z",
     "shell.execute_reply": "2023-09-25T16:07:35.905490Z",
     "shell.execute_reply.started": "2023-09-25T16:07:35.306559Z"
    }
   },
   "outputs": [],
   "source": [
    "print(data.isnull().sum())"
   ]
  },
  {
   "cell_type": "markdown",
   "metadata": {},
   "source": [
    "- So the dataset does not have any null values. As this is the task of sentiment analysis of Flipkart reviews, I will clean and prepare the column containing reviews before heading to sentiment analysis:"
   ]
  },
  {
   "cell_type": "code",
   "execution_count": null,
   "metadata": {
    "execution": {
     "iopub.execute_input": "2023-09-25T16:07:35.909742Z",
     "iopub.status.busy": "2023-09-25T16:07:35.908992Z",
     "iopub.status.idle": "2023-09-25T16:07:47.574159Z",
     "shell.execute_reply": "2023-09-25T16:07:47.573174Z",
     "shell.execute_reply.started": "2023-09-25T16:07:35.909700Z"
    }
   },
   "outputs": [],
   "source": [
    "import nltk\n",
    "import re\n",
    "nltk.download('stopwords')\n",
    "stemmer = nltk.SnowballStemmer(\"english\")\n",
    "from nltk.corpus import stopwords\n",
    "import string\n",
    "stopword=set(stopwords.words('english'))\n",
    "\n",
    "def clean(text):\n",
    "    text = str(text).lower()\n",
    "    text = re.sub('\\[.*?\\]', '', text)\n",
    "    text = re.sub('https?://\\S+|www\\.\\S+', '', text)\n",
    "    text = re.sub('<.*?>+', '', text)\n",
    "    text = re.sub('[%s]' % re.escape(string.punctuation), '', text)\n",
    "    text = re.sub('\\n', '', text)\n",
    "    text = re.sub('\\w*\\d\\w*', '', text)\n",
    "    text = [word for word in text.split(' ') if word not in stopword]\n",
    "    text=\" \".join(text)\n",
    "    text = [stemmer.stem(word) for word in text.split(' ')]\n",
    "    text=\" \".join(text)\n",
    "    return text\n",
    "data[\"Review\"] = data[\"Review\"].apply(clean)"
   ]
  },
  {
   "cell_type": "markdown",
   "metadata": {},
   "source": [
    "# Sentiment Analysis of Flipkart Reviews\n",
    "\n",
    "- The Rating column of the data contains the ratings given by every reviewer. So let’s have a look at how most of the people rate the products they buy from Flipkart:"
   ]
  },
  {
   "cell_type": "code",
   "execution_count": null,
   "metadata": {
    "execution": {
     "iopub.execute_input": "2023-09-25T16:07:47.576595Z",
     "iopub.status.busy": "2023-09-25T16:07:47.575621Z",
     "iopub.status.idle": "2023-09-25T16:07:50.373665Z",
     "shell.execute_reply": "2023-09-25T16:07:50.372222Z",
     "shell.execute_reply.started": "2023-09-25T16:07:47.576558Z"
    }
   },
   "outputs": [],
   "source": [
    "ratings = data[\"Rate\"].value_counts()\n",
    "numbers = ratings.index\n",
    "quantity = ratings.values\n",
    "\n",
    "import plotly.express as px\n",
    "figure = px.pie(data, \n",
    "             values=quantity, \n",
    "             names=numbers,hole = 0.5)\n",
    "figure.show()"
   ]
  },
  {
   "cell_type": "markdown",
   "metadata": {},
   "source": [
    "- So 60% of the reviewers have given 5 out of 5 ratings to the products they buy from Flipkart. \n",
    "\n",
    "- Let’s have a look at the kind of reviews people leave. For this, I will use a word cloud to visualize the most used words in the reviews column:"
   ]
  },
  {
   "cell_type": "code",
   "execution_count": null,
   "metadata": {
    "execution": {
     "iopub.execute_input": "2023-09-25T16:07:50.375867Z",
     "iopub.status.busy": "2023-09-25T16:07:50.375436Z",
     "iopub.status.idle": "2023-09-25T16:07:52.466621Z",
     "shell.execute_reply": "2023-09-25T16:07:52.465557Z",
     "shell.execute_reply.started": "2023-09-25T16:07:50.375827Z"
    }
   },
   "outputs": [],
   "source": [
    "text = \" \".join(i for i in data.Review)\n",
    "stopwords = set(STOPWORDS)\n",
    "wordcloud = WordCloud(stopwords=stopwords, \n",
    "                      background_color=\"white\").generate(text)\n",
    "plt.figure( figsize=(15,10))\n",
    "plt.imshow(wordcloud, interpolation='bilinear')\n",
    "plt.axis(\"off\")\n",
    "plt.show()"
   ]
  },
  {
   "cell_type": "markdown",
   "metadata": {},
   "source": [
    "- Now I will analyze the sentiments of Flipkart reviews by adding three columns in this dataset as Positive, Negative, and Neutral by calculating the sentiment scores of the reviews:"
   ]
  },
  {
   "cell_type": "code",
   "execution_count": null,
   "metadata": {
    "execution": {
     "iopub.execute_input": "2023-09-25T16:07:52.469438Z",
     "iopub.status.busy": "2023-09-25T16:07:52.468623Z",
     "iopub.status.idle": "2023-09-25T16:08:20.312651Z",
     "shell.execute_reply": "2023-09-25T16:08:20.311757Z",
     "shell.execute_reply.started": "2023-09-25T16:07:52.469396Z"
    }
   },
   "outputs": [],
   "source": [
    "nltk.download('vader_lexicon')\n",
    "sentiments = SentimentIntensityAnalyzer()\n",
    "data[\"Positive\"] = [sentiments.polarity_scores(i)[\"pos\"] for i in data[\"Review\"]]\n",
    "data[\"Negative\"] = [sentiments.polarity_scores(i)[\"neg\"] for i in data[\"Review\"]]\n",
    "data[\"Neutral\"] = [sentiments.polarity_scores(i)[\"neu\"] for i in data[\"Review\"]]\n",
    "data = data[[\"Review\", \"Positive\", \"Negative\", \"Neutral\"]]\n",
    "print(data.head())"
   ]
  },
  {
   "cell_type": "markdown",
   "metadata": {},
   "source": [
    "- Now let’s see how most of the reviewers think about the products and services of Flipkart:\n",
    "\n"
   ]
  },
  {
   "cell_type": "code",
   "execution_count": null,
   "metadata": {
    "execution": {
     "iopub.execute_input": "2023-09-25T16:08:20.314771Z",
     "iopub.status.busy": "2023-09-25T16:08:20.313967Z",
     "iopub.status.idle": "2023-09-25T16:08:20.413734Z",
     "shell.execute_reply": "2023-09-25T16:08:20.412362Z",
     "shell.execute_reply.started": "2023-09-25T16:08:20.314735Z"
    }
   },
   "outputs": [],
   "source": [
    "x = sum(data[\"Positive\"])\n",
    "y = sum(data[\"Negative\"])\n",
    "z = sum(data[\"Neutral\"])\n",
    "\n",
    "def sentiment_score(a, b, c):\n",
    "    if (a>b) and (a>c):\n",
    "        print(\"Positive 😊 \")\n",
    "    elif (b>a) and (b>c):\n",
    "        print(\"Negative 😠 \")\n",
    "    else:\n",
    "        print(\"Neutral 🙂 \")\n",
    "sentiment_score(x, y, z)"
   ]
  },
  {
   "cell_type": "markdown",
   "metadata": {},
   "source": [
    "- So most of the reviews are neutral. Let’s have a look at the total of Positive, Negative, and Neutral sentiment scores to find a conclusion about Flipkart reviews:"
   ]
  },
  {
   "cell_type": "code",
   "execution_count": null,
   "metadata": {
    "execution": {
     "iopub.execute_input": "2023-09-25T16:08:20.417429Z",
     "iopub.status.busy": "2023-09-25T16:08:20.416857Z",
     "iopub.status.idle": "2023-09-25T16:08:20.424782Z",
     "shell.execute_reply": "2023-09-25T16:08:20.423328Z",
     "shell.execute_reply.started": "2023-09-25T16:08:20.417389Z"
    }
   },
   "outputs": [],
   "source": [
    "print(\"Positive: \", x)\n",
    "print(\"Negative: \", y)\n",
    "print(\"Neutral: \", z)"
   ]
  },
  {
   "cell_type": "markdown",
   "metadata": {},
   "source": [
    "# Conclusion\n",
    "\n",
    "- So, most people give Neutral reviews, and a small proportion of people give Negative reviews. So we can say that people are satisfied with Flipkart products and services."
   ]
  }
 ],
 "metadata": {
  "kernelspec": {
   "display_name": "Python 3 (ipykernel)",
   "language": "python",
   "name": "python3"
  },
  "language_info": {
   "codemirror_mode": {
    "name": "ipython",
    "version": 3
   },
   "file_extension": ".py",
   "mimetype": "text/x-python",
   "name": "python",
   "nbconvert_exporter": "python",
   "pygments_lexer": "ipython3",
   "version": "3.11.5"
  }
 },
 "nbformat": 4,
 "nbformat_minor": 4
}
