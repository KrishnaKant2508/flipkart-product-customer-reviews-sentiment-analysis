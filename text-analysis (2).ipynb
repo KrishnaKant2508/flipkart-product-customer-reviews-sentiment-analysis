{
 "cells": [
  {
   "cell_type": "markdown",
   "metadata": {},
   "source": [
    "# **Setting up the environment**"
   ]
  },
  {
   "cell_type": "code",
   "execution_count": 71,
   "metadata": {
    "execution": {
     "iopub.execute_input": "2023-03-22T08:02:12.935018Z",
     "iopub.status.busy": "2023-03-22T08:02:12.933660Z",
     "iopub.status.idle": "2023-03-22T08:02:12.968588Z",
     "shell.execute_reply": "2023-03-22T08:02:12.967710Z",
     "shell.execute_reply.started": "2023-03-22T08:02:12.934897Z"
    },
    "id": "qso3F35VdHjI"
   },
   "outputs": [],
   "source": [
    "import pandas as pd\n",
    "import numpy as np\n"
   ]
  },
  {
   "cell_type": "code",
   "execution_count": 72,
   "metadata": {
    "execution": {
     "iopub.execute_input": "2023-03-22T08:02:12.971635Z",
     "iopub.status.busy": "2023-03-22T08:02:12.970896Z",
     "iopub.status.idle": "2023-03-22T08:02:14.025478Z",
     "shell.execute_reply": "2023-03-22T08:02:14.024095Z",
     "shell.execute_reply.started": "2023-03-22T08:02:12.971589Z"
    },
    "id": "l_Nxn8V3dHjP"
   },
   "outputs": [],
   "source": [
    "data = pd.read_csv(r\"C:\\Users\\panda\\Desktop\\my machine learning docs\\flipkart\\Dataset-SA.csv\")\n",
    "df = pd.DataFrame(data)"
   ]
  },
  {
   "cell_type": "markdown",
   "metadata": {},
   "source": [
    "# **Exploratory Data Analysis**"
   ]
  },
  {
   "cell_type": "code",
   "execution_count": 73,
   "metadata": {
    "execution": {
     "iopub.execute_input": "2023-03-22T08:02:14.027435Z",
     "iopub.status.busy": "2023-03-22T08:02:14.027017Z",
     "iopub.status.idle": "2023-03-22T08:02:14.116363Z",
     "shell.execute_reply": "2023-03-22T08:02:14.115121Z",
     "shell.execute_reply.started": "2023-03-22T08:02:14.027391Z"
    },
    "id": "x7jd8gOsdHjS",
    "outputId": "0c379e1b-a758-4dfb-b2a6-f966cffbbd55"
   },
   "outputs": [
    {
     "name": "stdout",
     "output_type": "stream",
     "text": [
      "<class 'pandas.core.frame.DataFrame'>\n",
      "RangeIndex: 51349 entries, 0 to 51348\n",
      "Data columns (total 6 columns):\n",
      " #   Column         Non-Null Count  Dtype \n",
      "---  ------         --------------  ----- \n",
      " 0   product_name   51349 non-null  object\n",
      " 1   product_price  51349 non-null  object\n",
      " 2   Rate           51349 non-null  object\n",
      " 3   Review         41625 non-null  object\n",
      " 4   Summary        51342 non-null  object\n",
      " 5   Sentiment      51349 non-null  object\n",
      "dtypes: object(6)\n",
      "memory usage: 2.4+ MB\n"
     ]
    }
   ],
   "source": [
    "data.info()"
   ]
  },
  {
   "cell_type": "code",
   "execution_count": 74,
   "metadata": {
    "execution": {
     "iopub.execute_input": "2023-03-22T08:02:14.118351Z",
     "iopub.status.busy": "2023-03-22T08:02:14.118012Z",
     "iopub.status.idle": "2023-03-22T08:02:14.323252Z",
     "shell.execute_reply": "2023-03-22T08:02:14.322340Z",
     "shell.execute_reply.started": "2023-03-22T08:02:14.118319Z"
    },
    "id": "wmeY0IPfdHjV",
    "outputId": "7599a604-8fec-4b8d-e934-8153fe491998"
   },
   "outputs": [
    {
     "data": {
      "text/html": [
       "<div>\n",
       "<style scoped>\n",
       "    .dataframe tbody tr th:only-of-type {\n",
       "        vertical-align: middle;\n",
       "    }\n",
       "\n",
       "    .dataframe tbody tr th {\n",
       "        vertical-align: top;\n",
       "    }\n",
       "\n",
       "    .dataframe thead th {\n",
       "        text-align: right;\n",
       "    }\n",
       "</style>\n",
       "<table border=\"1\" class=\"dataframe\">\n",
       "  <thead>\n",
       "    <tr style=\"text-align: right;\">\n",
       "      <th></th>\n",
       "      <th>product_name</th>\n",
       "      <th>product_price</th>\n",
       "      <th>Rate</th>\n",
       "      <th>Review</th>\n",
       "      <th>Summary</th>\n",
       "      <th>Sentiment</th>\n",
       "    </tr>\n",
       "  </thead>\n",
       "  <tbody>\n",
       "    <tr>\n",
       "      <th>count</th>\n",
       "      <td>51349</td>\n",
       "      <td>51349</td>\n",
       "      <td>51349</td>\n",
       "      <td>41625</td>\n",
       "      <td>51342</td>\n",
       "      <td>51349</td>\n",
       "    </tr>\n",
       "    <tr>\n",
       "      <th>unique</th>\n",
       "      <td>295</td>\n",
       "      <td>225</td>\n",
       "      <td>6</td>\n",
       "      <td>409</td>\n",
       "      <td>25339</td>\n",
       "      <td>3</td>\n",
       "    </tr>\n",
       "    <tr>\n",
       "      <th>top</th>\n",
       "      <td>Lakm?? Eyeconic Kajal Twin Pack??????(Deep Bla...</td>\n",
       "      <td>449</td>\n",
       "      <td>5</td>\n",
       "      <td>wonderful</td>\n",
       "      <td>good</td>\n",
       "      <td>positive</td>\n",
       "    </tr>\n",
       "    <tr>\n",
       "      <th>freq</th>\n",
       "      <td>1999</td>\n",
       "      <td>2841</td>\n",
       "      <td>29399</td>\n",
       "      <td>2163</td>\n",
       "      <td>4234</td>\n",
       "      <td>41769</td>\n",
       "    </tr>\n",
       "  </tbody>\n",
       "</table>\n",
       "</div>"
      ],
      "text/plain": [
       "                                             product_name product_price  \\\n",
       "count                                               51349         51349   \n",
       "unique                                                295           225   \n",
       "top     Lakm?? Eyeconic Kajal Twin Pack??????(Deep Bla...           449   \n",
       "freq                                                 1999          2841   \n",
       "\n",
       "         Rate     Review Summary Sentiment  \n",
       "count   51349      41625   51342     51349  \n",
       "unique      6        409   25339         3  \n",
       "top         5  wonderful    good  positive  \n",
       "freq    29399       2163    4234     41769  "
      ]
     },
     "execution_count": 74,
     "metadata": {},
     "output_type": "execute_result"
    }
   ],
   "source": [
    "data.describe()"
   ]
  },
  {
   "cell_type": "code",
   "execution_count": 75,
   "metadata": {
    "execution": {
     "iopub.execute_input": "2023-03-22T08:02:14.326595Z",
     "iopub.status.busy": "2023-03-22T08:02:14.325611Z",
     "iopub.status.idle": "2023-03-22T08:02:14.340634Z",
     "shell.execute_reply": "2023-03-22T08:02:14.339675Z",
     "shell.execute_reply.started": "2023-03-22T08:02:14.326563Z"
    },
    "id": "HFdojz1ydHjX",
    "outputId": "e6840bd8-be9a-4e33-c05a-902199ae10b5"
   },
   "outputs": [
    {
     "data": {
      "text/html": [
       "<div>\n",
       "<style scoped>\n",
       "    .dataframe tbody tr th:only-of-type {\n",
       "        vertical-align: middle;\n",
       "    }\n",
       "\n",
       "    .dataframe tbody tr th {\n",
       "        vertical-align: top;\n",
       "    }\n",
       "\n",
       "    .dataframe thead th {\n",
       "        text-align: right;\n",
       "    }\n",
       "</style>\n",
       "<table border=\"1\" class=\"dataframe\">\n",
       "  <thead>\n",
       "    <tr style=\"text-align: right;\">\n",
       "      <th></th>\n",
       "      <th>product_name</th>\n",
       "      <th>product_price</th>\n",
       "      <th>Rate</th>\n",
       "      <th>Review</th>\n",
       "      <th>Summary</th>\n",
       "      <th>Sentiment</th>\n",
       "    </tr>\n",
       "  </thead>\n",
       "  <tbody>\n",
       "    <tr>\n",
       "      <th>0</th>\n",
       "      <td>Candes 12 L Room/Personal Air Cooler??????(Whi...</td>\n",
       "      <td>3999</td>\n",
       "      <td>5</td>\n",
       "      <td>super!</td>\n",
       "      <td>great cooler excellent air flow and for this p...</td>\n",
       "      <td>positive</td>\n",
       "    </tr>\n",
       "    <tr>\n",
       "      <th>1</th>\n",
       "      <td>Candes 12 L Room/Personal Air Cooler??????(Whi...</td>\n",
       "      <td>3999</td>\n",
       "      <td>5</td>\n",
       "      <td>awesome</td>\n",
       "      <td>best budget 2 fit cooler nice cooling</td>\n",
       "      <td>positive</td>\n",
       "    </tr>\n",
       "    <tr>\n",
       "      <th>2</th>\n",
       "      <td>Candes 12 L Room/Personal Air Cooler??????(Whi...</td>\n",
       "      <td>3999</td>\n",
       "      <td>3</td>\n",
       "      <td>fair</td>\n",
       "      <td>the quality is good but the power of air is de...</td>\n",
       "      <td>positive</td>\n",
       "    </tr>\n",
       "    <tr>\n",
       "      <th>3</th>\n",
       "      <td>Candes 12 L Room/Personal Air Cooler??????(Whi...</td>\n",
       "      <td>3999</td>\n",
       "      <td>1</td>\n",
       "      <td>useless product</td>\n",
       "      <td>very bad product its a only a fan</td>\n",
       "      <td>negative</td>\n",
       "    </tr>\n",
       "    <tr>\n",
       "      <th>4</th>\n",
       "      <td>Candes 12 L Room/Personal Air Cooler??????(Whi...</td>\n",
       "      <td>3999</td>\n",
       "      <td>3</td>\n",
       "      <td>fair</td>\n",
       "      <td>ok ok product</td>\n",
       "      <td>neutral</td>\n",
       "    </tr>\n",
       "  </tbody>\n",
       "</table>\n",
       "</div>"
      ],
      "text/plain": [
       "                                        product_name product_price Rate  \\\n",
       "0  Candes 12 L Room/Personal Air Cooler??????(Whi...          3999    5   \n",
       "1  Candes 12 L Room/Personal Air Cooler??????(Whi...          3999    5   \n",
       "2  Candes 12 L Room/Personal Air Cooler??????(Whi...          3999    3   \n",
       "3  Candes 12 L Room/Personal Air Cooler??????(Whi...          3999    1   \n",
       "4  Candes 12 L Room/Personal Air Cooler??????(Whi...          3999    3   \n",
       "\n",
       "            Review                                            Summary  \\\n",
       "0           super!  great cooler excellent air flow and for this p...   \n",
       "1          awesome              best budget 2 fit cooler nice cooling   \n",
       "2             fair  the quality is good but the power of air is de...   \n",
       "3  useless product                  very bad product its a only a fan   \n",
       "4             fair                                      ok ok product   \n",
       "\n",
       "  Sentiment  \n",
       "0  positive  \n",
       "1  positive  \n",
       "2  positive  \n",
       "3  negative  \n",
       "4   neutral  "
      ]
     },
     "execution_count": 75,
     "metadata": {},
     "output_type": "execute_result"
    }
   ],
   "source": [
    "data.head()"
   ]
  },
  {
   "cell_type": "code",
   "execution_count": 76,
   "metadata": {
    "execution": {
     "iopub.execute_input": "2023-03-22T08:02:14.342669Z",
     "iopub.status.busy": "2023-03-22T08:02:14.341796Z",
     "iopub.status.idle": "2023-03-22T08:02:14.861332Z",
     "shell.execute_reply": "2023-03-22T08:02:14.860073Z",
     "shell.execute_reply.started": "2023-03-22T08:02:14.342634Z"
    },
    "id": "GRKDzbcjdHj3"
   },
   "outputs": [],
   "source": [
    "import matplotlib.pyplot as plt\n",
    "import seaborn as sn\n",
    "%matplotlib inline"
   ]
  },
  {
   "cell_type": "code",
   "execution_count": 77,
   "metadata": {
    "execution": {
     "iopub.execute_input": "2023-03-22T08:02:14.863987Z",
     "iopub.status.busy": "2023-03-22T08:02:14.863438Z",
     "iopub.status.idle": "2023-03-22T08:02:15.239128Z",
     "shell.execute_reply": "2023-03-22T08:02:15.238098Z",
     "shell.execute_reply.started": "2023-03-22T08:02:14.863935Z"
    },
    "id": "MK7GPfOZdHj5",
    "outputId": "d1cabe4d-f8e8-4c1a-d59c-4bd6bc349dac"
   },
   "outputs": [
    {
     "data": {
      "image/png": "[encoded data removed]",
      "text/plain": [
       "<Figure size 640x480 with 1 Axes>"
      ]
     },
     "metadata": {},
     "output_type": "display_data"
    }
   ],
   "source": [
    "ax = sn.countplot(x='Sentiment',data=data)\n"
   ]
  },
  {
   "cell_type": "code",
   "execution_count": 78,
   "metadata": {
    "execution": {
     "iopub.execute_input": "2023-03-22T08:02:15.241372Z",
     "iopub.status.busy": "2023-03-22T08:02:15.240993Z",
     "iopub.status.idle": "2023-03-22T08:02:15.246443Z",
     "shell.execute_reply": "2023-03-22T08:02:15.244951Z",
     "shell.execute_reply.started": "2023-03-22T08:02:15.241332Z"
    },
    "id": "HtvzzpsKdHkF"
   },
   "outputs": [],
   "source": [
    "#from sklearn.model_selection import train_test_split\n",
    "#train_set , test_set = train_test_split(data , test_size=0.2,random_state=42)"
   ]
  },
  {
   "cell_type": "code",
   "execution_count": 79,
   "metadata": {
    "execution": {
     "iopub.execute_input": "2023-03-22T08:02:15.248347Z",
     "iopub.status.busy": "2023-03-22T08:02:15.248020Z",
     "iopub.status.idle": "2023-03-22T08:02:15.282868Z",
     "shell.execute_reply": "2023-03-22T08:02:15.281773Z",
     "shell.execute_reply.started": "2023-03-22T08:02:15.248317Z"
    }
   },
   "outputs": [],
   "source": [
    "data = data[data.Sentiment.isin(['neutral']) == False]\n",
    "df = pd.DataFrame(data)"
   ]
  },
  {
   "cell_type": "code",
   "execution_count": 80,
   "metadata": {
    "execution": {
     "iopub.execute_input": "2023-03-22T08:02:15.284543Z",
     "iopub.status.busy": "2023-03-22T08:02:15.284232Z",
     "iopub.status.idle": "2023-03-22T08:02:15.625861Z",
     "shell.execute_reply": "2023-03-22T08:02:15.624622Z",
     "shell.execute_reply.started": "2023-03-22T08:02:15.284515Z"
    },
    "id": "MK7GPfOZdHj5",
    "outputId": "d1cabe4d-f8e8-4c1a-d59c-4bd6bc349dac"
   },
   "outputs": [
    {
     "data": {
      "image/png": "[encoded data removed]",
      "text/plain": [
       "<Figure size 640x480 with 1 Axes>"
      ]
     },
     "metadata": {},
     "output_type": "display_data"
    }
   ],
   "source": [
    "ax = sn.countplot(x='Sentiment',data=data)\n"
   ]
  },
  {
   "cell_type": "code",
   "execution_count": 81,
   "metadata": {
    "execution": {
     "iopub.execute_input": "2023-03-22T08:02:15.627362Z",
     "iopub.status.busy": "2023-03-22T08:02:15.627029Z",
     "iopub.status.idle": "2023-03-22T08:02:15.648224Z",
     "shell.execute_reply": "2023-03-22T08:02:15.646967Z",
     "shell.execute_reply.started": "2023-03-22T08:02:15.627321Z"
    },
    "id": "-I-GriztdHkJ",
    "outputId": "a9f6d306-62cb-4489-ad9a-17f3b449037f"
   },
   "outputs": [
    {
     "data": {
      "text/plain": [
       "positive    41769\n",
       "negative     7165\n",
       "Name: Sentiment, dtype: int64"
      ]
     },
     "execution_count": 81,
     "metadata": {},
     "output_type": "execute_result"
    }
   ],
   "source": [
    "data['Sentiment'].value_counts()"
   ]
  },
  {
   "cell_type": "code",
   "execution_count": 82,
   "metadata": {
    "execution": {
     "iopub.execute_input": "2023-03-22T08:02:15.650397Z",
     "iopub.status.busy": "2023-03-22T08:02:15.649918Z",
     "iopub.status.idle": "2023-03-22T08:02:15.884333Z",
     "shell.execute_reply": "2023-03-22T08:02:15.882975Z",
     "shell.execute_reply.started": "2023-03-22T08:02:15.650363Z"
    },
    "id": "bOz3RZwCdHkL",
    "outputId": "3ca3a56a-2dc8-42f8-f0c5-44b0249de3a8"
   },
   "outputs": [
    {
     "data": {
      "text/html": [
       "<div>\n",
       "<style scoped>\n",
       "    .dataframe tbody tr th:only-of-type {\n",
       "        vertical-align: middle;\n",
       "    }\n",
       "\n",
       "    .dataframe tbody tr th {\n",
       "        vertical-align: top;\n",
       "    }\n",
       "\n",
       "    .dataframe thead th {\n",
       "        text-align: right;\n",
       "    }\n",
       "</style>\n",
       "<table border=\"1\" class=\"dataframe\">\n",
       "  <thead>\n",
       "    <tr style=\"text-align: right;\">\n",
       "      <th></th>\n",
       "      <th>product_name</th>\n",
       "      <th>product_price</th>\n",
       "      <th>Rate</th>\n",
       "      <th>Review</th>\n",
       "      <th>Summary</th>\n",
       "      <th>Sentiment</th>\n",
       "    </tr>\n",
       "  </thead>\n",
       "  <tbody>\n",
       "    <tr>\n",
       "      <th>0</th>\n",
       "      <td>Candes 12 L Room/Personal Air Cooler??????(Whi...</td>\n",
       "      <td>3999</td>\n",
       "      <td>5</td>\n",
       "      <td>super!</td>\n",
       "      <td>great cooler excellent air flow and for this p...</td>\n",
       "      <td>positive</td>\n",
       "    </tr>\n",
       "    <tr>\n",
       "      <th>1</th>\n",
       "      <td>Candes 12 L Room/Personal Air Cooler??????(Whi...</td>\n",
       "      <td>3999</td>\n",
       "      <td>5</td>\n",
       "      <td>awesome</td>\n",
       "      <td>best budget 2 fit cooler nice cooling</td>\n",
       "      <td>positive</td>\n",
       "    </tr>\n",
       "    <tr>\n",
       "      <th>2</th>\n",
       "      <td>Candes 12 L Room/Personal Air Cooler??????(Whi...</td>\n",
       "      <td>3999</td>\n",
       "      <td>3</td>\n",
       "      <td>fair</td>\n",
       "      <td>the quality is good but the power of air is de...</td>\n",
       "      <td>positive</td>\n",
       "    </tr>\n",
       "    <tr>\n",
       "      <th>3</th>\n",
       "      <td>Candes 12 L Room/Personal Air Cooler??????(Whi...</td>\n",
       "      <td>3999</td>\n",
       "      <td>1</td>\n",
       "      <td>useless product</td>\n",
       "      <td>very bad product its a only a fan</td>\n",
       "      <td>negative</td>\n",
       "    </tr>\n",
       "    <tr>\n",
       "      <th>5</th>\n",
       "      <td>Candes 12 L Room/Personal Air Cooler??????(Whi...</td>\n",
       "      <td>3999</td>\n",
       "      <td>5</td>\n",
       "      <td>awesome</td>\n",
       "      <td>the cooler is really fantastic and provides go...</td>\n",
       "      <td>positive</td>\n",
       "    </tr>\n",
       "  </tbody>\n",
       "</table>\n",
       "</div>"
      ],
      "text/plain": [
       "                                        product_name product_price Rate  \\\n",
       "0  Candes 12 L Room/Personal Air Cooler??????(Whi...          3999    5   \n",
       "1  Candes 12 L Room/Personal Air Cooler??????(Whi...          3999    5   \n",
       "2  Candes 12 L Room/Personal Air Cooler??????(Whi...          3999    3   \n",
       "3  Candes 12 L Room/Personal Air Cooler??????(Whi...          3999    1   \n",
       "5  Candes 12 L Room/Personal Air Cooler??????(Whi...          3999    5   \n",
       "\n",
       "            Review                                            Summary  \\\n",
       "0           super!  great cooler excellent air flow and for this p...   \n",
       "1          awesome              best budget 2 fit cooler nice cooling   \n",
       "2             fair  the quality is good but the power of air is de...   \n",
       "3  useless product                  very bad product its a only a fan   \n",
       "5          awesome  the cooler is really fantastic and provides go...   \n",
       "\n",
       "  Sentiment  \n",
       "0  positive  \n",
       "1  positive  \n",
       "2  positive  \n",
       "3  negative  \n",
       "5  positive  "
      ]
     },
     "execution_count": 82,
     "metadata": {},
     "output_type": "execute_result"
    }
   ],
   "source": [
    "df = df.fillna(df.mode().iloc[0])\n",
    "df.head()\n"
   ]
  },
  {
   "cell_type": "code",
   "execution_count": 83,
   "metadata": {
    "execution": {
     "iopub.execute_input": "2023-03-22T08:02:15.886757Z",
     "iopub.status.busy": "2023-03-22T08:02:15.886227Z",
     "iopub.status.idle": "2023-03-22T08:02:15.965832Z",
     "shell.execute_reply": "2023-03-22T08:02:15.964461Z",
     "shell.execute_reply.started": "2023-03-22T08:02:15.886710Z"
    },
    "id": "m8eHczYjdHkP",
    "outputId": "edf173bb-3f0f-42f3-d430-1cc67d6b562a"
   },
   "outputs": [
    {
     "name": "stdout",
     "output_type": "stream",
     "text": [
      "<class 'pandas.core.frame.DataFrame'>\n",
      "Int64Index: 48934 entries, 0 to 51348\n",
      "Data columns (total 6 columns):\n",
      " #   Column         Non-Null Count  Dtype \n",
      "---  ------         --------------  ----- \n",
      " 0   product_name   48934 non-null  object\n",
      " 1   product_price  48934 non-null  object\n",
      " 2   Rate           48934 non-null  object\n",
      " 3   Review         48934 non-null  object\n",
      " 4   Summary        48934 non-null  object\n",
      " 5   Sentiment      48934 non-null  object\n",
      "dtypes: object(6)\n",
      "memory usage: 2.6+ MB\n"
     ]
    }
   ],
   "source": [
    "data = df\n",
    "data.info()"
   ]
  },
  {
   "cell_type": "markdown",
   "metadata": {},
   "source": [
    "# **Feature Transformations**"
   ]
  },
  {
   "cell_type": "code",
   "execution_count": 84,
   "metadata": {
    "execution": {
     "iopub.execute_input": "2023-03-22T08:02:15.973214Z",
     "iopub.status.busy": "2023-03-22T08:02:15.972828Z",
     "iopub.status.idle": "2023-03-22T08:02:16.904411Z",
     "shell.execute_reply": "2023-03-22T08:02:16.903187Z",
     "shell.execute_reply.started": "2023-03-22T08:02:15.973181Z"
    },
    "id": "-V1-BbjjdHkR",
    "outputId": "800ff802-424d-41fe-e40e-af09f8ab75d3"
   },
   "outputs": [
    {
     "name": "stdout",
     "output_type": "stream",
     "text": [
      "Total number of features:  524\n"
     ]
    }
   ],
   "source": [
    "from sklearn.feature_extraction.text import CountVectorizer\n",
    "count_vectorizer = CountVectorizer()\n",
    "feature_vector = count_vectorizer.fit(data.Review)\n",
    "features = feature_vector.get_feature_names_out()\n",
    "print(\"Total number of features: \",len(features))"
   ]
  },
  {
   "cell_type": "code",
   "execution_count": 85,
   "metadata": {
    "execution": {
     "iopub.execute_input": "2023-03-22T08:02:16.906924Z",
     "iopub.status.busy": "2023-03-22T08:02:16.906202Z",
     "iopub.status.idle": "2023-03-22T08:02:17.732105Z",
     "shell.execute_reply": "2023-03-22T08:02:17.730558Z",
     "shell.execute_reply.started": "2023-03-22T08:02:16.906859Z"
    },
    "id": "iPnviLutdHkT"
   },
   "outputs": [],
   "source": [
    "data_features = count_vectorizer.transform(data.Review)"
   ]
  },
  {
   "cell_type": "code",
   "execution_count": 86,
   "metadata": {
    "execution": {
     "iopub.execute_input": "2023-03-22T08:02:17.734272Z",
     "iopub.status.busy": "2023-03-22T08:02:17.733726Z",
     "iopub.status.idle": "2023-03-22T08:02:17.742585Z",
     "shell.execute_reply": "2023-03-22T08:02:17.741121Z",
     "shell.execute_reply.started": "2023-03-22T08:02:17.734235Z"
    },
    "id": "txjpqFQVdHkV",
    "outputId": "b4bd8d96-308e-441d-c39a-012f71abce52"
   },
   "outputs": [
    {
     "data": {
      "text/plain": [
       "(48934, 524)"
      ]
     },
     "execution_count": 86,
     "metadata": {},
     "output_type": "execute_result"
    }
   ],
   "source": [
    "data_features.shape"
   ]
  },
  {
   "cell_type": "code",
   "execution_count": 87,
   "metadata": {
    "execution": {
     "iopub.execute_input": "2023-03-22T08:02:17.744848Z",
     "iopub.status.busy": "2023-03-22T08:02:17.744506Z",
     "iopub.status.idle": "2023-03-22T08:02:17.754559Z",
     "shell.execute_reply": "2023-03-22T08:02:17.753173Z",
     "shell.execute_reply.started": "2023-03-22T08:02:17.744818Z"
    },
    "id": "_DqSBNv7dHkX",
    "outputId": "bf4b0519-2ff4-46c4-ef2b-167c4411c364"
   },
   "outputs": [
    {
     "data": {
      "text/plain": [
       "87296"
      ]
     },
     "execution_count": 87,
     "metadata": {},
     "output_type": "execute_result"
    }
   ],
   "source": [
    "data_features.getnnz()"
   ]
  },
  {
   "cell_type": "code",
   "execution_count": 88,
   "metadata": {
    "execution": {
     "iopub.execute_input": "2023-03-22T08:02:17.757121Z",
     "iopub.status.busy": "2023-03-22T08:02:17.756557Z",
     "iopub.status.idle": "2023-03-22T08:02:17.765192Z",
     "shell.execute_reply": "2023-03-22T08:02:17.763714Z",
     "shell.execute_reply.started": "2023-03-22T08:02:17.757075Z"
    },
    "id": "RI9BIxZadHkY",
    "outputId": "62998cff-9d27-4eb1-a280-7c48bf8913d3"
   },
   "outputs": [
    {
     "name": "stdout",
     "output_type": "stream",
     "text": [
      "Density of the matrix:  0.34044921700112035\n"
     ]
    }
   ],
   "source": [
    "print(\"Density of the matrix: \",\n",
    "    data_features.getnnz()*100 /  \n",
    "    (data_features.shape[0]* data_features.shape[1]))\n"
   ]
  },
  {
   "cell_type": "code",
   "execution_count": 89,
   "metadata": {
    "execution": {
     "iopub.execute_input": "2023-03-22T08:02:17.768002Z",
     "iopub.status.busy": "2023-03-22T08:02:17.767482Z",
     "iopub.status.idle": "2023-03-22T08:02:18.631777Z",
     "shell.execute_reply": "2023-03-22T08:02:18.630666Z",
     "shell.execute_reply.started": "2023-03-22T08:02:17.767957Z"
    },
    "id": "nOMJt8zpdHka"
   },
   "outputs": [],
   "source": [
    "data_df = pd.DataFrame(data_features.todense())\n",
    "data_df.columns = features"
   ]
  },
  {
   "cell_type": "code",
   "execution_count": 90,
   "metadata": {
    "execution": {
     "iopub.execute_input": "2023-03-22T08:02:18.633271Z",
     "iopub.status.busy": "2023-03-22T08:02:18.632944Z",
     "iopub.status.idle": "2023-03-22T08:02:18.647817Z",
     "shell.execute_reply": "2023-03-22T08:02:18.646419Z",
     "shell.execute_reply.started": "2023-03-22T08:02:18.633242Z"
    },
    "id": "TR_dGD9BdHkb",
    "outputId": "b7494049-1d30-4f0e-cc03-45c2af1a076c"
   },
   "outputs": [
    {
     "data": {
      "text/html": [
       "<div>\n",
       "<style scoped>\n",
       "    .dataframe tbody tr th:only-of-type {\n",
       "        vertical-align: middle;\n",
       "    }\n",
       "\n",
       "    .dataframe tbody tr th {\n",
       "        vertical-align: top;\n",
       "    }\n",
       "\n",
       "    .dataframe thead th {\n",
       "        text-align: right;\n",
       "    }\n",
       "</style>\n",
       "<table border=\"1\" class=\"dataframe\">\n",
       "  <thead>\n",
       "    <tr style=\"text-align: right;\">\n",
       "      <th></th>\n",
       "      <th>product_name</th>\n",
       "      <th>product_price</th>\n",
       "      <th>Rate</th>\n",
       "      <th>Review</th>\n",
       "      <th>Summary</th>\n",
       "      <th>Sentiment</th>\n",
       "    </tr>\n",
       "  </thead>\n",
       "  <tbody>\n",
       "    <tr>\n",
       "      <th>0</th>\n",
       "      <td>Candes 12 L Room/Personal Air Cooler??????(Whi...</td>\n",
       "      <td>3999</td>\n",
       "      <td>5</td>\n",
       "      <td>super!</td>\n",
       "      <td>great cooler excellent air flow and for this p...</td>\n",
       "      <td>positive</td>\n",
       "    </tr>\n",
       "  </tbody>\n",
       "</table>\n",
       "</div>"
      ],
      "text/plain": [
       "                                        product_name product_price Rate  \\\n",
       "0  Candes 12 L Room/Personal Air Cooler??????(Whi...          3999    5   \n",
       "\n",
       "   Review                                            Summary Sentiment  \n",
       "0  super!  great cooler excellent air flow and for this p...  positive  "
      ]
     },
     "execution_count": 90,
     "metadata": {},
     "output_type": "execute_result"
    }
   ],
   "source": [
    "data[0:1]"
   ]
  },
  {
   "cell_type": "code",
   "execution_count": 91,
   "metadata": {
    "execution": {
     "iopub.execute_input": "2023-03-22T08:02:18.650703Z",
     "iopub.status.busy": "2023-03-22T08:02:18.650056Z",
     "iopub.status.idle": "2023-03-22T08:02:18.665041Z",
     "shell.execute_reply": "2023-03-22T08:02:18.663556Z",
     "shell.execute_reply.started": "2023-03-22T08:02:18.650658Z"
    },
    "id": "sq-AjT-2gXsL",
    "outputId": "2782f445-905f-4be8-c1bd-ac5ed5b464bb"
   },
   "outputs": [
    {
     "data": {
      "text/html": [
       "<div>\n",
       "<style scoped>\n",
       "    .dataframe tbody tr th:only-of-type {\n",
       "        vertical-align: middle;\n",
       "    }\n",
       "\n",
       "    .dataframe tbody tr th {\n",
       "        vertical-align: top;\n",
       "    }\n",
       "\n",
       "    .dataframe thead th {\n",
       "        text-align: right;\n",
       "    }\n",
       "</style>\n",
       "<table border=\"1\" class=\"dataframe\">\n",
       "  <thead>\n",
       "    <tr style=\"text-align: right;\">\n",
       "      <th></th>\n",
       "      <th>doubtful</th>\n",
       "      <th>drive</th>\n",
       "      <th>dslr</th>\n",
       "      <th>dulcet</th>\n",
       "      <th>durable</th>\n",
       "      <th>earlier</th>\n",
       "      <th>easy</th>\n",
       "    </tr>\n",
       "  </thead>\n",
       "  <tbody>\n",
       "    <tr>\n",
       "      <th>0</th>\n",
       "      <td>0</td>\n",
       "      <td>0</td>\n",
       "      <td>0</td>\n",
       "      <td>0</td>\n",
       "      <td>0</td>\n",
       "      <td>0</td>\n",
       "      <td>0</td>\n",
       "    </tr>\n",
       "  </tbody>\n",
       "</table>\n",
       "</div>"
      ],
      "text/plain": [
       "   doubtful  drive  dslr  dulcet  durable  earlier  easy\n",
       "0         0      0     0       0        0        0     0"
      ]
     },
     "execution_count": 91,
     "metadata": {},
     "output_type": "execute_result"
    }
   ],
   "source": [
    "data_df.iloc[:1,150:157]"
   ]
  },
  {
   "cell_type": "code",
   "execution_count": 92,
   "metadata": {
    "execution": {
     "iopub.execute_input": "2023-03-22T08:02:18.666996Z",
     "iopub.status.busy": "2023-03-22T08:02:18.666591Z",
     "iopub.status.idle": "2023-03-22T08:02:20.037151Z",
     "shell.execute_reply": "2023-03-22T08:02:20.035930Z",
     "shell.execute_reply.started": "2023-03-22T08:02:18.666962Z"
    },
    "id": "3ZkcJUpLhF1E"
   },
   "outputs": [],
   "source": [
    "features_counts = np.sum(data_features.toarray(), axis = 0)\n",
    "features_counts_df = pd.DataFrame(dict(features = features , counts = features_counts))"
   ]
  },
  {
   "cell_type": "code",
   "execution_count": 93,
   "metadata": {
    "execution": {
     "iopub.execute_input": "2023-03-22T08:02:20.038661Z",
     "iopub.status.busy": "2023-03-22T08:02:20.038348Z",
     "iopub.status.idle": "2023-03-22T08:02:20.373181Z",
     "shell.execute_reply": "2023-03-22T08:02:20.371732Z",
     "shell.execute_reply.started": "2023-03-22T08:02:20.038632Z"
    },
    "id": "yjlRVY7chZqw",
    "outputId": "f4eaf86b-5505-45da-cf0c-96098ca677e5"
   },
   "outputs": [
    {
     "data": {
      "text/plain": [
       "Text(0, 0.5, 'Density')"
      ]
     },
     "execution_count": 93,
     "metadata": {},
     "output_type": "execute_result"
    },
    {
     "data": {
      "image/png": "[encoded data removed]",
      "text/plain": [
       "<Figure size 1200x500 with 1 Axes>"
      ]
     },
     "metadata": {},
     "output_type": "display_data"
    }
   ],
   "source": [
    "plt.figure(figsize=(12,5))\n",
    "plt.hist(features_counts_df.counts , bins=50 , range = (0 ,5000))\n",
    "plt.xlabel('Frequency of words')\n",
    "plt.ylabel('Density')"
   ]
  },
  {
   "cell_type": "code",
   "execution_count": 94,
   "metadata": {
    "execution": {
     "iopub.execute_input": "2023-03-22T08:02:20.375256Z",
     "iopub.status.busy": "2023-03-22T08:02:20.374617Z",
     "iopub.status.idle": "2023-03-22T08:02:20.384268Z",
     "shell.execute_reply": "2023-03-22T08:02:20.383085Z",
     "shell.execute_reply.started": "2023-03-22T08:02:20.375222Z"
    },
    "id": "tOA5EJTnh7eA",
    "outputId": "3786a7f3-777a-480e-d97d-c79d1fe12d4a"
   },
   "outputs": [
    {
     "data": {
      "text/plain": [
       "275"
      ]
     },
     "execution_count": 94,
     "metadata": {},
     "output_type": "execute_result"
    }
   ],
   "source": [
    "len(features_counts_df[features_counts_df.counts == 1])\n"
   ]
  },
  {
   "cell_type": "code",
   "execution_count": 95,
   "metadata": {
    "execution": {
     "iopub.execute_input": "2023-03-22T08:02:20.386261Z",
     "iopub.status.busy": "2023-03-22T08:02:20.385801Z",
     "iopub.status.idle": "2023-03-22T08:02:23.411918Z",
     "shell.execute_reply": "2023-03-22T08:02:23.410513Z",
     "shell.execute_reply.started": "2023-03-22T08:02:20.386212Z"
    },
    "id": "ogx4Hj_NiVpk",
    "outputId": "352a33f1-7bb4-4d2f-f85a-3cb68fd3eec0"
   },
   "outputs": [],
   "source": [
    "count_vectorizer = CountVectorizer(max_features=10000)\n",
    "feature_vector = count_vectorizer.fit(data.Review)\n",
    "features = feature_vector.get_feature_names_out()\n",
    "data_features = count_vectorizer.transform(data.Review)\n",
    "features_counts = np.sum(data_features.toarray() , axis = 0)\n",
    "feature_counts = pd.DataFrame(dict(features = features , counts = features_counts))"
   ]
  },
  {
   "cell_type": "code",
   "execution_count": 96,
   "metadata": {
    "execution": {
     "iopub.execute_input": "2023-03-22T08:02:23.414366Z",
     "iopub.status.busy": "2023-03-22T08:02:23.413859Z",
     "iopub.status.idle": "2023-03-22T08:02:23.428850Z",
     "shell.execute_reply": "2023-03-22T08:02:23.427580Z",
     "shell.execute_reply.started": "2023-03-22T08:02:23.414311Z"
    },
    "id": "RQRU3cYAjo5t",
    "outputId": "23b05586-2827-497e-dac6-1e51dadd2339"
   },
   "outputs": [
    {
     "data": {
      "text/html": [
       "<div>\n",
       "<style scoped>\n",
       "    .dataframe tbody tr th:only-of-type {\n",
       "        vertical-align: middle;\n",
       "    }\n",
       "\n",
       "    .dataframe tbody tr th {\n",
       "        vertical-align: top;\n",
       "    }\n",
       "\n",
       "    .dataframe thead th {\n",
       "        text-align: right;\n",
       "    }\n",
       "</style>\n",
       "<table border=\"1\" class=\"dataframe\">\n",
       "  <thead>\n",
       "    <tr style=\"text-align: right;\">\n",
       "      <th></th>\n",
       "      <th>features</th>\n",
       "      <th>counts</th>\n",
       "    </tr>\n",
       "  </thead>\n",
       "  <tbody>\n",
       "    <tr>\n",
       "      <th>510</th>\n",
       "      <td>wonderful</td>\n",
       "      <td>11243</td>\n",
       "    </tr>\n",
       "    <tr>\n",
       "      <th>373</th>\n",
       "      <td>product</td>\n",
       "      <td>6839</td>\n",
       "    </tr>\n",
       "    <tr>\n",
       "      <th>217</th>\n",
       "      <td>good</td>\n",
       "      <td>3777</td>\n",
       "    </tr>\n",
       "    <tr>\n",
       "      <th>45</th>\n",
       "      <td>awesome</td>\n",
       "      <td>2690</td>\n",
       "    </tr>\n",
       "    <tr>\n",
       "      <th>375</th>\n",
       "      <td>purchase</td>\n",
       "      <td>2599</td>\n",
       "    </tr>\n",
       "    <tr>\n",
       "      <th>450</th>\n",
       "      <td>terrific</td>\n",
       "      <td>2554</td>\n",
       "    </tr>\n",
       "    <tr>\n",
       "      <th>455</th>\n",
       "      <td>the</td>\n",
       "      <td>2543</td>\n",
       "    </tr>\n",
       "    <tr>\n",
       "      <th>320</th>\n",
       "      <td>money</td>\n",
       "      <td>2195</td>\n",
       "    </tr>\n",
       "    <tr>\n",
       "      <th>516</th>\n",
       "      <td>worth</td>\n",
       "      <td>2110</td>\n",
       "    </tr>\n",
       "    <tr>\n",
       "      <th>331</th>\n",
       "      <td>nice</td>\n",
       "      <td>2061</td>\n",
       "    </tr>\n",
       "    <tr>\n",
       "      <th>270</th>\n",
       "      <td>just</td>\n",
       "      <td>1668</td>\n",
       "    </tr>\n",
       "    <tr>\n",
       "      <th>384</th>\n",
       "      <td>recommended</td>\n",
       "      <td>1552</td>\n",
       "    </tr>\n",
       "    <tr>\n",
       "      <th>252</th>\n",
       "      <td>in</td>\n",
       "      <td>1356</td>\n",
       "    </tr>\n",
       "    <tr>\n",
       "      <th>83</th>\n",
       "      <td>buy</td>\n",
       "      <td>1353</td>\n",
       "    </tr>\n",
       "    <tr>\n",
       "      <th>358</th>\n",
       "      <td>perfect</td>\n",
       "      <td>1351</td>\n",
       "    </tr>\n",
       "  </tbody>\n",
       "</table>\n",
       "</div>"
      ],
      "text/plain": [
       "        features  counts\n",
       "510    wonderful   11243\n",
       "373      product    6839\n",
       "217         good    3777\n",
       "45       awesome    2690\n",
       "375     purchase    2599\n",
       "450     terrific    2554\n",
       "455          the    2543\n",
       "320        money    2195\n",
       "516        worth    2110\n",
       "331         nice    2061\n",
       "270         just    1668\n",
       "384  recommended    1552\n",
       "252           in    1356\n",
       "83           buy    1353\n",
       "358      perfect    1351"
      ]
     },
     "execution_count": 96,
     "metadata": {},
     "output_type": "execute_result"
    }
   ],
   "source": [
    "feature_counts.sort_values('counts',ascending = False)[0:15]"
   ]
  },
  {
   "cell_type": "code",
   "execution_count": 97,
   "metadata": {
    "execution": {
     "iopub.execute_input": "2023-03-22T08:02:23.431096Z",
     "iopub.status.busy": "2023-03-22T08:02:23.430744Z",
     "iopub.status.idle": "2023-03-22T08:02:24.091808Z",
     "shell.execute_reply": "2023-03-22T08:02:24.090439Z",
     "shell.execute_reply.started": "2023-03-22T08:02:23.431065Z"
    },
    "id": "voX4uuJbmqHb",
    "outputId": "aebbfe41-1815-4c1b-c83e-8d8ed4a625fd"
   },
   "outputs": [
    {
     "name": "stderr",
     "output_type": "stream",
     "text": [
      "[nltk_data] Downloading package stopwords to\n",
      "[nltk_data]     C:\\Users\\panda\\AppData\\Roaming\\nltk_data...\n",
      "[nltk_data]   Package stopwords is already up-to-date!\n"
     ]
    }
   ],
   "source": [
    "\n",
    "from nltk.corpus import stopwords\n",
    "import nltk\n",
    "nltk.download('stopwords')\n",
    "\n",
    "english_stop_words = stopwords.words('english')"
   ]
  },
  {
   "cell_type": "code",
   "execution_count": 98,
   "metadata": {
    "execution": {
     "iopub.execute_input": "2023-03-22T08:02:24.093863Z",
     "iopub.status.busy": "2023-03-22T08:02:24.093404Z",
     "iopub.status.idle": "2023-03-22T08:02:24.103960Z",
     "shell.execute_reply": "2023-03-22T08:02:24.102418Z",
     "shell.execute_reply.started": "2023-03-22T08:02:24.093829Z"
    },
    "id": "UnWs7DgFnrv2",
    "outputId": "66175931-a51c-491d-8de7-608e768f3aa3"
   },
   "outputs": [
    {
     "data": {
      "text/plain": [
       "0             super!\n",
       "1            awesome\n",
       "2               fair\n",
       "3    useless product\n",
       "5            awesome\n",
       "Name: Review, dtype: object"
      ]
     },
     "execution_count": 98,
     "metadata": {},
     "output_type": "execute_result"
    }
   ],
   "source": [
    "data['Review'][0:5]"
   ]
  },
  {
   "cell_type": "code",
   "execution_count": 99,
   "metadata": {
    "execution": {
     "iopub.execute_input": "2023-03-22T08:02:24.106498Z",
     "iopub.status.busy": "2023-03-22T08:02:24.105944Z",
     "iopub.status.idle": "2023-03-22T08:02:27.156468Z",
     "shell.execute_reply": "2023-03-22T08:02:27.155259Z",
     "shell.execute_reply.started": "2023-03-22T08:02:24.106449Z"
    },
    "id": "3VT-DvOqn-hN",
    "outputId": "1d3c1dbe-cd5a-4a0f-c682-364f557461ea"
   },
   "outputs": [],
   "source": [
    "count_vectorizer = CountVectorizer(stop_words=english_stop_words , max_features = 10000)\n",
    "feature_vector = count_vectorizer.fit(data.Review)\n",
    "data_features = count_vectorizer.transform(data.Review)\n",
    "features = feature_vector.get_feature_names_out()\n",
    "features_counts = np.sum(data_features.toarray() , axis=0)\n",
    "feature_counts = pd.DataFrame(dict(features = features , counts = features_counts))\n"
   ]
  },
  {
   "cell_type": "code",
   "execution_count": 100,
   "metadata": {
    "execution": {
     "iopub.execute_input": "2023-03-22T08:02:27.158368Z",
     "iopub.status.busy": "2023-03-22T08:02:27.158034Z",
     "iopub.status.idle": "2023-03-22T08:02:27.173702Z",
     "shell.execute_reply": "2023-03-22T08:02:27.171831Z",
     "shell.execute_reply.started": "2023-03-22T08:02:27.158338Z"
    },
    "id": "h5vuF2S1o6nE",
    "outputId": "14dff0ad-8527-42ed-a87b-61cd08ba1f86"
   },
   "outputs": [
    {
     "data": {
      "text/html": [
       "<div>\n",
       "<style scoped>\n",
       "    .dataframe tbody tr th:only-of-type {\n",
       "        vertical-align: middle;\n",
       "    }\n",
       "\n",
       "    .dataframe tbody tr th {\n",
       "        vertical-align: top;\n",
       "    }\n",
       "\n",
       "    .dataframe thead th {\n",
       "        text-align: right;\n",
       "    }\n",
       "</style>\n",
       "<table border=\"1\" class=\"dataframe\">\n",
       "  <thead>\n",
       "    <tr style=\"text-align: right;\">\n",
       "      <th></th>\n",
       "      <th>features</th>\n",
       "      <th>counts</th>\n",
       "    </tr>\n",
       "  </thead>\n",
       "  <tbody>\n",
       "    <tr>\n",
       "      <th>448</th>\n",
       "      <td>wonderful</td>\n",
       "      <td>11243</td>\n",
       "    </tr>\n",
       "    <tr>\n",
       "      <th>333</th>\n",
       "      <td>product</td>\n",
       "      <td>6839</td>\n",
       "    </tr>\n",
       "    <tr>\n",
       "      <th>198</th>\n",
       "      <td>good</td>\n",
       "      <td>3777</td>\n",
       "    </tr>\n",
       "    <tr>\n",
       "      <th>37</th>\n",
       "      <td>awesome</td>\n",
       "      <td>2690</td>\n",
       "    </tr>\n",
       "    <tr>\n",
       "      <th>335</th>\n",
       "      <td>purchase</td>\n",
       "      <td>2599</td>\n",
       "    </tr>\n",
       "    <tr>\n",
       "      <th>406</th>\n",
       "      <td>terrific</td>\n",
       "      <td>2554</td>\n",
       "    </tr>\n",
       "    <tr>\n",
       "      <th>292</th>\n",
       "      <td>money</td>\n",
       "      <td>2195</td>\n",
       "    </tr>\n",
       "    <tr>\n",
       "      <th>454</th>\n",
       "      <td>worth</td>\n",
       "      <td>2110</td>\n",
       "    </tr>\n",
       "    <tr>\n",
       "      <th>301</th>\n",
       "      <td>nice</td>\n",
       "      <td>2061</td>\n",
       "    </tr>\n",
       "    <tr>\n",
       "      <th>344</th>\n",
       "      <td>recommended</td>\n",
       "      <td>1552</td>\n",
       "    </tr>\n",
       "    <tr>\n",
       "      <th>71</th>\n",
       "      <td>buy</td>\n",
       "      <td>1353</td>\n",
       "    </tr>\n",
       "    <tr>\n",
       "      <th>318</th>\n",
       "      <td>perfect</td>\n",
       "      <td>1351</td>\n",
       "    </tr>\n",
       "    <tr>\n",
       "      <th>56</th>\n",
       "      <td>best</td>\n",
       "      <td>1349</td>\n",
       "    </tr>\n",
       "    <tr>\n",
       "      <th>69</th>\n",
       "      <td>brilliant</td>\n",
       "      <td>1344</td>\n",
       "    </tr>\n",
       "    <tr>\n",
       "      <th>295</th>\n",
       "      <td>must</td>\n",
       "      <td>1341</td>\n",
       "    </tr>\n",
       "  </tbody>\n",
       "</table>\n",
       "</div>"
      ],
      "text/plain": [
       "        features  counts\n",
       "448    wonderful   11243\n",
       "333      product    6839\n",
       "198         good    3777\n",
       "37       awesome    2690\n",
       "335     purchase    2599\n",
       "406     terrific    2554\n",
       "292        money    2195\n",
       "454        worth    2110\n",
       "301         nice    2061\n",
       "344  recommended    1552\n",
       "71           buy    1353\n",
       "318      perfect    1351\n",
       "56          best    1349\n",
       "69     brilliant    1344\n",
       "295         must    1341"
      ]
     },
     "execution_count": 100,
     "metadata": {},
     "output_type": "execute_result"
    }
   ],
   "source": [
    "feature_counts.sort_values(\"counts\",ascending = False)[0:15]"
   ]
  },
  {
   "cell_type": "code",
   "execution_count": 101,
   "metadata": {
    "execution": {
     "iopub.execute_input": "2023-03-22T08:02:27.176510Z",
     "iopub.status.busy": "2023-03-22T08:02:27.175625Z",
     "iopub.status.idle": "2023-03-22T08:02:27.184338Z",
     "shell.execute_reply": "2023-03-22T08:02:27.182970Z",
     "shell.execute_reply.started": "2023-03-22T08:02:27.176445Z"
    },
    "id": "qbrFSCw5pIIU"
   },
   "outputs": [],
   "source": [
    "from nltk.stem.snowball import PorterStemmer\n",
    "stemmer = PorterStemmer()\n",
    "analyzer = CountVectorizer().build_analyzer()\n",
    "def stemmed_words(doc):\n",
    "  stemmed_words = [stemmer.stem(w) for w in analyzer(doc)]\n",
    "  non_stop_words = [word for word in stemmed_words ]\n",
    "  return non_stop_words"
   ]
  },
  {
   "cell_type": "code",
   "execution_count": 102,
   "metadata": {
    "execution": {
     "iopub.execute_input": "2023-03-22T08:02:27.186082Z",
     "iopub.status.busy": "2023-03-22T08:02:27.185717Z",
     "iopub.status.idle": "2023-03-22T08:02:52.040754Z",
     "shell.execute_reply": "2023-03-22T08:02:52.039296Z",
     "shell.execute_reply.started": "2023-03-22T08:02:27.186050Z"
    },
    "id": "5lIiN0egqf8S",
    "outputId": "0a1c20d9-bb0d-44bc-9d6e-ec5b2e6d9e0e"
   },
   "outputs": [],
   "source": [
    "count_vectorizer = CountVectorizer(analyzer = stemmed_words , max_features = 10000)\n",
    "feature_vector = count_vectorizer.fit(data.Review)\n",
    "data_features = count_vectorizer.transform(data.Review)\n",
    "features = feature_vector.get_feature_names_out()\n",
    "features_counts = np.sum(data_features.toarray() , axis=0)\n",
    "feature_counts = pd.DataFrame(dict(features = features , counts = features_counts))\n"
   ]
  },
  {
   "cell_type": "code",
   "execution_count": 103,
   "metadata": {
    "execution": {
     "iopub.execute_input": "2023-03-22T08:02:52.043773Z",
     "iopub.status.busy": "2023-03-22T08:02:52.042401Z",
     "iopub.status.idle": "2023-03-22T08:02:52.057144Z",
     "shell.execute_reply": "2023-03-22T08:02:52.055947Z",
     "shell.execute_reply.started": "2023-03-22T08:02:52.043727Z"
    },
    "id": "uCccGL9br_Nj",
    "outputId": "f6aa9219-f477-4a84-a6dc-b99701400de7"
   },
   "outputs": [
    {
     "data": {
      "text/html": [
       "<div>\n",
       "<style scoped>\n",
       "    .dataframe tbody tr th:only-of-type {\n",
       "        vertical-align: middle;\n",
       "    }\n",
       "\n",
       "    .dataframe tbody tr th {\n",
       "        vertical-align: top;\n",
       "    }\n",
       "\n",
       "    .dataframe thead th {\n",
       "        text-align: right;\n",
       "    }\n",
       "</style>\n",
       "<table border=\"1\" class=\"dataframe\">\n",
       "  <thead>\n",
       "    <tr style=\"text-align: right;\">\n",
       "      <th></th>\n",
       "      <th>features</th>\n",
       "      <th>counts</th>\n",
       "    </tr>\n",
       "  </thead>\n",
       "  <tbody>\n",
       "    <tr>\n",
       "      <th>484</th>\n",
       "      <td>wonder</td>\n",
       "      <td>11243</td>\n",
       "    </tr>\n",
       "    <tr>\n",
       "      <th>353</th>\n",
       "      <td>product</td>\n",
       "      <td>6839</td>\n",
       "    </tr>\n",
       "    <tr>\n",
       "      <th>204</th>\n",
       "      <td>good</td>\n",
       "      <td>3777</td>\n",
       "    </tr>\n",
       "    <tr>\n",
       "      <th>44</th>\n",
       "      <td>awesom</td>\n",
       "      <td>2690</td>\n",
       "    </tr>\n",
       "    <tr>\n",
       "      <th>355</th>\n",
       "      <td>purchas</td>\n",
       "      <td>2599</td>\n",
       "    </tr>\n",
       "    <tr>\n",
       "      <th>427</th>\n",
       "      <td>terrif</td>\n",
       "      <td>2554</td>\n",
       "    </tr>\n",
       "    <tr>\n",
       "      <th>431</th>\n",
       "      <td>the</td>\n",
       "      <td>2543</td>\n",
       "    </tr>\n",
       "    <tr>\n",
       "      <th>301</th>\n",
       "      <td>money</td>\n",
       "      <td>2195</td>\n",
       "    </tr>\n",
       "    <tr>\n",
       "      <th>488</th>\n",
       "      <td>worth</td>\n",
       "      <td>2110</td>\n",
       "    </tr>\n",
       "    <tr>\n",
       "      <th>312</th>\n",
       "      <td>nice</td>\n",
       "      <td>2061</td>\n",
       "    </tr>\n",
       "    <tr>\n",
       "      <th>253</th>\n",
       "      <td>just</td>\n",
       "      <td>1668</td>\n",
       "    </tr>\n",
       "    <tr>\n",
       "      <th>364</th>\n",
       "      <td>recommend</td>\n",
       "      <td>1552</td>\n",
       "    </tr>\n",
       "    <tr>\n",
       "      <th>81</th>\n",
       "      <td>buy</td>\n",
       "      <td>1360</td>\n",
       "    </tr>\n",
       "    <tr>\n",
       "      <th>236</th>\n",
       "      <td>in</td>\n",
       "      <td>1356</td>\n",
       "    </tr>\n",
       "    <tr>\n",
       "      <th>339</th>\n",
       "      <td>perfect</td>\n",
       "      <td>1351</td>\n",
       "    </tr>\n",
       "  </tbody>\n",
       "</table>\n",
       "</div>"
      ],
      "text/plain": [
       "      features  counts\n",
       "484     wonder   11243\n",
       "353    product    6839\n",
       "204       good    3777\n",
       "44      awesom    2690\n",
       "355    purchas    2599\n",
       "427     terrif    2554\n",
       "431        the    2543\n",
       "301      money    2195\n",
       "488      worth    2110\n",
       "312       nice    2061\n",
       "253       just    1668\n",
       "364  recommend    1552\n",
       "81         buy    1360\n",
       "236         in    1356\n",
       "339    perfect    1351"
      ]
     },
     "execution_count": 103,
     "metadata": {},
     "output_type": "execute_result"
    }
   ],
   "source": [
    "feature_counts.sort_values(\"counts\",ascending = False)[0:15]"
   ]
  },
  {
   "cell_type": "code",
   "execution_count": 104,
   "metadata": {
    "execution": {
     "iopub.execute_input": "2023-03-22T08:02:52.058839Z",
     "iopub.status.busy": "2023-03-22T08:02:52.058515Z",
     "iopub.status.idle": "2023-03-22T08:02:52.982044Z",
     "shell.execute_reply": "2023-03-22T08:02:52.980958Z",
     "shell.execute_reply.started": "2023-03-22T08:02:52.058810Z"
    },
    "id": "eD15OzHxsQgi"
   },
   "outputs": [],
   "source": [
    "data_df = pd.DataFrame(data_features.todense())\n",
    "data_df.columns = features\n",
    "data_df['Sentiment'] = data.Sentiment"
   ]
  },
  {
   "cell_type": "markdown",
   "metadata": {},
   "source": [
    "# **Model training and analysis**"
   ]
  },
  {
   "cell_type": "code",
   "execution_count": 105,
   "metadata": {
    "execution": {
     "iopub.execute_input": "2023-03-22T08:02:52.983623Z",
     "iopub.status.busy": "2023-03-22T08:02:52.983325Z",
     "iopub.status.idle": "2023-03-22T08:02:53.034361Z",
     "shell.execute_reply": "2023-03-22T08:02:53.033412Z",
     "shell.execute_reply.started": "2023-03-22T08:02:52.983596Z"
    },
    "id": "GfEK4HKXsq-9"
   },
   "outputs": [],
   "source": [
    "from sklearn.model_selection import train_test_split\n",
    "X_train , X_test , Y_train , Y_test = train_test_split(data_features,data.Sentiment,test_size=0.2,random_state=42)"
   ]
  },
  {
   "cell_type": "code",
   "execution_count": 106,
   "metadata": {
    "execution": {
     "iopub.execute_input": "2023-03-22T08:02:53.036487Z",
     "iopub.status.busy": "2023-03-22T08:02:53.035914Z",
     "iopub.status.idle": "2023-03-22T08:02:58.584788Z",
     "shell.execute_reply": "2023-03-22T08:02:58.583425Z",
     "shell.execute_reply.started": "2023-03-22T08:02:53.036454Z"
    },
    "id": "wvZ8ceabuKaU"
   },
   "outputs": [
    {
     "data": {
      "text/html": [
       "<style>#sk-container-id-3 {color: black;}#sk-container-id-3 pre{padding: 0;}#sk-container-id-3 div.sk-toggleable {background-color: white;}#sk-container-id-3 label.sk-toggleable__label {cursor: pointer;display: block;width: 100%;margin-bottom: 0;padding: 0.3em;box-sizing: border-box;text-align: center;}#sk-container-id-3 label.sk-toggleable__label-arrow:before {content: \"▸\";float: left;margin-right: 0.25em;color: #696969;}#sk-container-id-3 label.sk-toggleable__label-arrow:hover:before {color: black;}#sk-container-id-3 div.sk-estimator:hover label.sk-toggleable__label-arrow:before {color: black;}#sk-container-id-3 div.sk-toggleable__content {max-height: 0;max-width: 0;overflow: hidden;text-align: left;background-color: #f0f8ff;}#sk-container-id-3 div.sk-toggleable__content pre {margin: 0.2em;color: black;border-radius: 0.25em;background-color: #f0f8ff;}#sk-container-id-3 input.sk-toggleable__control:checked~div.sk-toggleable__content {max-height: 200px;max-width: 100%;overflow: auto;}#sk-container-id-3 input.sk-toggleable__control:checked~label.sk-toggleable__label-arrow:before {content: \"▾\";}#sk-container-id-3 div.sk-estimator input.sk-toggleable__control:checked~label.sk-toggleable__label {background-color: #d4ebff;}#sk-container-id-3 div.sk-label input.sk-toggleable__control:checked~label.sk-toggleable__label {background-color: #d4ebff;}#sk-container-id-3 input.sk-hidden--visually {border: 0;clip: rect(1px 1px 1px 1px);clip: rect(1px, 1px, 1px, 1px);height: 1px;margin: -1px;overflow: hidden;padding: 0;position: absolute;width: 1px;}#sk-container-id-3 div.sk-estimator {font-family: monospace;background-color: #f0f8ff;border: 1px dotted black;border-radius: 0.25em;box-sizing: border-box;margin-bottom: 0.5em;}#sk-container-id-3 div.sk-estimator:hover {background-color: #d4ebff;}#sk-container-id-3 div.sk-parallel-item::after {content: \"\";width: 100%;border-bottom: 1px solid gray;flex-grow: 1;}#sk-container-id-3 div.sk-label:hover label.sk-toggleable__label {background-color: #d4ebff;}#sk-container-id-3 div.sk-serial::before {content: \"\";position: absolute;border-left: 1px solid gray;box-sizing: border-box;top: 0;bottom: 0;left: 50%;z-index: 0;}#sk-container-id-3 div.sk-serial {display: flex;flex-direction: column;align-items: center;background-color: white;padding-right: 0.2em;padding-left: 0.2em;position: relative;}#sk-container-id-3 div.sk-item {position: relative;z-index: 1;}#sk-container-id-3 div.sk-parallel {display: flex;align-items: stretch;justify-content: center;background-color: white;position: relative;}#sk-container-id-3 div.sk-item::before, #sk-container-id-3 div.sk-parallel-item::before {content: \"\";position: absolute;border-left: 1px solid gray;box-sizing: border-box;top: 0;bottom: 0;left: 50%;z-index: -1;}#sk-container-id-3 div.sk-parallel-item {display: flex;flex-direction: column;z-index: 1;position: relative;background-color: white;}#sk-container-id-3 div.sk-parallel-item:first-child::after {align-self: flex-end;width: 50%;}#sk-container-id-3 div.sk-parallel-item:last-child::after {align-self: flex-start;width: 50%;}#sk-container-id-3 div.sk-parallel-item:only-child::after {width: 0;}#sk-container-id-3 div.sk-dashed-wrapped {border: 1px dashed gray;margin: 0 0.4em 0.5em 0.4em;box-sizing: border-box;padding-bottom: 0.4em;background-color: white;}#sk-container-id-3 div.sk-label label {font-family: monospace;font-weight: bold;display: inline-block;line-height: 1.2em;}#sk-container-id-3 div.sk-label-container {text-align: center;}#sk-container-id-3 div.sk-container {/* jupyter's `normalize.less` sets `[hidden] { display: none; }` but bootstrap.min.css set `[hidden] { display: none !important; }` so we also need the `!important` here to be able to override the default hidden behavior on the sphinx rendered scikit-learn.org. See: https://github.com/scikit-learn/scikit-learn/issues/21755 */display: inline-block !important;position: relative;}#sk-container-id-3 div.sk-text-repr-fallback {display: none;}</style><div id=\"sk-container-id-3\" class=\"sk-top-container\"><div class=\"sk-text-repr-fallback\"><pre>BernoulliNB()</pre><b>In a Jupyter environment, </b></div><div class=\"sk-container\" hidden><div class=\"sk-item\"><div class=\"sk-estimator sk-toggleable\"><input class=\"sk-toggleable__control sk-hidden--visually\" id=\"sk-estimator-id-3\" type=\"checkbox\" checked><label for=\"sk-estimator-id-3\" class=\"sk-toggleable__label sk-toggleable__label-arrow\">BernoulliNB</label><div class=\"sk-toggleable__content\"><pre>BernoulliNB()</pre></div></div></div></div></div>"
      ],
      "text/plain": [
       "BernoulliNB()"
      ]
     },
     "execution_count": 106,
     "metadata": {},
     "output_type": "execute_result"
    }
   ],
   "source": [
    "from sklearn.naive_bayes import BernoulliNB\n",
    "nb_clf1 = BernoulliNB()\n",
    "nb_clf1.fit(X_train.toarray(),Y_train)"
   ]
  },
  {
   "cell_type": "code",
   "execution_count": 107,
   "metadata": {
    "execution": {
     "iopub.execute_input": "2023-03-22T08:02:58.588281Z",
     "iopub.status.busy": "2023-03-22T08:02:58.586617Z",
     "iopub.status.idle": "2023-03-22T08:02:59.475123Z",
     "shell.execute_reply": "2023-03-22T08:02:59.473474Z",
     "shell.execute_reply.started": "2023-03-22T08:02:58.588235Z"
    },
    "id": "3X2c8Gt6ugA0"
   },
   "outputs": [],
   "source": [
    "test_predicted = nb_clf1.predict(X_test.toarray())"
   ]
  },
  {
   "cell_type": "code",
   "execution_count": 108,
   "metadata": {
    "execution": {
     "iopub.execute_input": "2023-03-22T08:02:59.479133Z",
     "iopub.status.busy": "2023-03-22T08:02:59.478023Z",
     "iopub.status.idle": "2023-03-22T08:03:00.911929Z",
     "shell.execute_reply": "2023-03-22T08:03:00.910874Z",
     "shell.execute_reply.started": "2023-03-22T08:02:59.479072Z"
    }
   },
   "outputs": [
    {
     "name": "stdout",
     "output_type": "stream",
     "text": [
      "              precision    recall  f1-score   support\n",
      "\n",
      "    negative       0.88      0.68      0.77      1438\n",
      "    positive       0.95      0.98      0.97      8349\n",
      "\n",
      "    accuracy                           0.94      9787\n",
      "   macro avg       0.91      0.83      0.87      9787\n",
      "weighted avg       0.94      0.94      0.94      9787\n",
      "\n"
     ]
    }
   ],
   "source": [
    "from sklearn import metrics\n",
    "print(metrics.classification_report(Y_test,test_predicted))"
   ]
  },
  {
   "cell_type": "code",
   "execution_count": 109,
   "metadata": {
    "execution": {
     "iopub.execute_input": "2023-03-22T08:03:00.916614Z",
     "iopub.status.busy": "2023-03-22T08:03:00.916260Z",
     "iopub.status.idle": "2023-03-22T08:03:01.372514Z",
     "shell.execute_reply": "2023-03-22T08:03:01.370956Z",
     "shell.execute_reply.started": "2023-03-22T08:03:00.916585Z"
    }
   },
   "outputs": [
    {
     "data": {
      "text/plain": [
       "<Axes: >"
      ]
     },
     "execution_count": 109,
     "metadata": {},
     "output_type": "execute_result"
    },
    {
     "data": {
      "image/png": "[encoded data removed]",
      "text/plain": [
       "<Figure size 640x480 with 2 Axes>"
      ]
     },
     "metadata": {},
     "output_type": "display_data"
    }
   ],
   "source": [
    "cm = metrics.confusion_matrix(Y_test,test_predicted)\n",
    "sn.heatmap(cm, annot=True , fmt='.2f')"
   ]
  },
  {
   "cell_type": "code",
   "execution_count": 110,
   "metadata": {
    "execution": {
     "iopub.execute_input": "2023-03-22T08:03:01.374986Z",
     "iopub.status.busy": "2023-03-22T08:03:01.374565Z",
     "iopub.status.idle": "2023-03-22T08:03:24.949554Z",
     "shell.execute_reply": "2023-03-22T08:03:24.948094Z",
     "shell.execute_reply.started": "2023-03-22T08:03:01.374946Z"
    }
   },
   "outputs": [],
   "source": [
    "from sklearn.feature_extraction.text import TfidfVectorizer\n",
    "tfidf_vectorizer = TfidfVectorizer(analyzer = stemmed_words , max_features = 10000)\n",
    "feature_vector = tfidf_vectorizer.fit(data.Review)\n",
    "data_features = tfidf_vectorizer.transform(data.Review)\n",
    "features = feature_vector.get_feature_names_out()\n"
   ]
  },
  {
   "cell_type": "code",
   "execution_count": 111,
   "metadata": {
    "execution": {
     "iopub.execute_input": "2023-03-22T08:03:24.957094Z",
     "iopub.status.busy": "2023-03-22T08:03:24.956720Z",
     "iopub.status.idle": "2023-03-22T08:03:24.962350Z",
     "shell.execute_reply": "2023-03-22T08:03:24.961207Z",
     "shell.execute_reply.started": "2023-03-22T08:03:24.957062Z"
    }
   },
   "outputs": [],
   "source": [
    "from sklearn.metrics import accuracy_score"
   ]
  },
  {
   "cell_type": "code",
   "execution_count": 112,
   "metadata": {
    "execution": {
     "iopub.execute_input": "2023-03-22T08:03:24.964166Z",
     "iopub.status.busy": "2023-03-22T08:03:24.963789Z",
     "iopub.status.idle": "2023-03-22T08:03:25.069355Z",
     "shell.execute_reply": "2023-03-22T08:03:25.067756Z",
     "shell.execute_reply.started": "2023-03-22T08:03:24.964133Z"
    }
   },
   "outputs": [
    {
     "name": "stdout",
     "output_type": "stream",
     "text": [
      "Accuracy of the model: 93.9205067947277%\n"
     ]
    }
   ],
   "source": [
    "print('Accuracy of the model: {0}%'.format(accuracy_score(Y_test,test_predicted)*100))"
   ]
  },
  {
   "cell_type": "code",
   "execution_count": 113,
   "metadata": {
    "execution": {
     "iopub.execute_input": "2023-03-22T08:03:25.071807Z",
     "iopub.status.busy": "2023-03-22T08:03:25.071278Z",
     "iopub.status.idle": "2023-03-22T08:03:25.115284Z",
     "shell.execute_reply": "2023-03-22T08:03:25.113935Z",
     "shell.execute_reply.started": "2023-03-22T08:03:25.071762Z"
    }
   },
   "outputs": [],
   "source": [
    "\n",
    "from sklearn.naive_bayes import GaussianNB\n",
    "X_train , X_test , Y_train , Y_test = train_test_split(data_features,data.Sentiment,test_size=0.2,random_state=42)\n"
   ]
  },
  {
   "cell_type": "code",
   "execution_count": 114,
   "metadata": {
    "execution": {
     "iopub.execute_input": "2023-03-22T08:03:25.117125Z",
     "iopub.status.busy": "2023-03-22T08:03:25.116770Z",
     "iopub.status.idle": "2023-03-22T08:03:29.984302Z",
     "shell.execute_reply": "2023-03-22T08:03:29.982930Z",
     "shell.execute_reply.started": "2023-03-22T08:03:25.117094Z"
    }
   },
   "outputs": [
    {
     "data": {
      "text/html": [
       "<style>#sk-container-id-4 {color: black;}#sk-container-id-4 pre{padding: 0;}#sk-container-id-4 div.sk-toggleable {background-color: white;}#sk-container-id-4 label.sk-toggleable__label {cursor: pointer;display: block;width: 100%;margin-bottom: 0;padding: 0.3em;box-sizing: border-box;text-align: center;}#sk-container-id-4 label.sk-toggleable__label-arrow:before {content: \"▸\";float: left;margin-right: 0.25em;color: #696969;}#sk-container-id-4 label.sk-toggleable__label-arrow:hover:before {color: black;}#sk-container-id-4 div.sk-estimator:hover label.sk-toggleable__label-arrow:before {color: black;}#sk-container-id-4 div.sk-toggleable__content {max-height: 0;max-width: 0;overflow: hidden;text-align: left;background-color: #f0f8ff;}#sk-container-id-4 div.sk-toggleable__content pre {margin: 0.2em;color: black;border-radius: 0.25em;background-color: #f0f8ff;}#sk-container-id-4 input.sk-toggleable__control:checked~div.sk-toggleable__content {max-height: 200px;max-width: 100%;overflow: auto;}#sk-container-id-4 input.sk-toggleable__control:checked~label.sk-toggleable__label-arrow:before {content: \"▾\";}#sk-container-id-4 div.sk-estimator input.sk-toggleable__control:checked~label.sk-toggleable__label {background-color: #d4ebff;}#sk-container-id-4 div.sk-label input.sk-toggleable__control:checked~label.sk-toggleable__label {background-color: #d4ebff;}#sk-container-id-4 input.sk-hidden--visually {border: 0;clip: rect(1px 1px 1px 1px);clip: rect(1px, 1px, 1px, 1px);height: 1px;margin: -1px;overflow: hidden;padding: 0;position: absolute;width: 1px;}#sk-container-id-4 div.sk-estimator {font-family: monospace;background-color: #f0f8ff;border: 1px dotted black;border-radius: 0.25em;box-sizing: border-box;margin-bottom: 0.5em;}#sk-container-id-4 div.sk-estimator:hover {background-color: #d4ebff;}#sk-container-id-4 div.sk-parallel-item::after {content: \"\";width: 100%;border-bottom: 1px solid gray;flex-grow: 1;}#sk-container-id-4 div.sk-label:hover label.sk-toggleable__label {background-color: #d4ebff;}#sk-container-id-4 div.sk-serial::before {content: \"\";position: absolute;border-left: 1px solid gray;box-sizing: border-box;top: 0;bottom: 0;left: 50%;z-index: 0;}#sk-container-id-4 div.sk-serial {display: flex;flex-direction: column;align-items: center;background-color: white;padding-right: 0.2em;padding-left: 0.2em;position: relative;}#sk-container-id-4 div.sk-item {position: relative;z-index: 1;}#sk-container-id-4 div.sk-parallel {display: flex;align-items: stretch;justify-content: center;background-color: white;position: relative;}#sk-container-id-4 div.sk-item::before, #sk-container-id-4 div.sk-parallel-item::before {content: \"\";position: absolute;border-left: 1px solid gray;box-sizing: border-box;top: 0;bottom: 0;left: 50%;z-index: -1;}#sk-container-id-4 div.sk-parallel-item {display: flex;flex-direction: column;z-index: 1;position: relative;background-color: white;}#sk-container-id-4 div.sk-parallel-item:first-child::after {align-self: flex-end;width: 50%;}#sk-container-id-4 div.sk-parallel-item:last-child::after {align-self: flex-start;width: 50%;}#sk-container-id-4 div.sk-parallel-item:only-child::after {width: 0;}#sk-container-id-4 div.sk-dashed-wrapped {border: 1px dashed gray;margin: 0 0.4em 0.5em 0.4em;box-sizing: border-box;padding-bottom: 0.4em;background-color: white;}#sk-container-id-4 div.sk-label label {font-family: monospace;font-weight: bold;display: inline-block;line-height: 1.2em;}#sk-container-id-4 div.sk-label-container {text-align: center;}#sk-container-id-4 div.sk-container {/* jupyter's `normalize.less` sets `[hidden] { display: none; }` but bootstrap.min.css set `[hidden] { display: none !important; }` so we also need the `!important` here to be able to override the default hidden behavior on the sphinx rendered scikit-learn.org. See: https://github.com/scikit-learn/scikit-learn/issues/21755 */display: inline-block !important;position: relative;}#sk-container-id-4 div.sk-text-repr-fallback {display: none;}</style><div id=\"sk-container-id-4\" class=\"sk-top-container\"><div class=\"sk-text-repr-fallback\"><pre>GaussianNB()</pre><b>In a Jupyter environment, please rerun this cell to show the HTML representation or trust the notebook. <br />On GitHub, the HTML representation is unable to render, please try loading this page with nbviewer.org.</b></div><div class=\"sk-container\" hidden><div class=\"sk-item\"><div class=\"sk-estimator sk-toggleable\"><input class=\"sk-toggleable__control sk-hidden--visually\" id=\"sk-estimator-id-4\" type=\"checkbox\" checked><label for=\"sk-estimator-id-4\" class=\"sk-toggleable__label sk-toggleable__label-arrow\">GaussianNB</label><div class=\"sk-toggleable__content\"><pre>GaussianNB()</pre></div></div></div></div></div>"
      ],
      "text/plain": [
       "GaussianNB()"
      ]
     },
     "execution_count": 114,
     "metadata": {},
     "output_type": "execute_result"
    }
   ],
   "source": [
    "nb_clf2 = GaussianNB()\n",
    "nb_clf2.fit(X_train.toarray(),Y_train)"
   ]
  },
  {
   "cell_type": "code",
   "execution_count": 115,
   "metadata": {
    "execution": {
     "iopub.execute_input": "2023-03-22T08:03:29.986583Z",
     "iopub.status.busy": "2023-03-22T08:03:29.986085Z",
     "iopub.status.idle": "2023-03-22T08:03:31.327829Z",
     "shell.execute_reply": "2023-03-22T08:03:31.326543Z",
     "shell.execute_reply.started": "2023-03-22T08:03:29.986531Z"
    },
    "id": "3X2c8Gt6ugA0"
   },
   "outputs": [],
   "source": [
    "test_predicted = nb_clf2.predict(X_test.toarray())"
   ]
  },
  {
   "cell_type": "code",
   "execution_count": 116,
   "metadata": {
    "execution": {
     "iopub.execute_input": "2023-03-22T08:03:31.330464Z",
     "iopub.status.busy": "2023-03-22T08:03:31.329653Z",
     "iopub.status.idle": "2023-03-22T08:03:32.764590Z",
     "shell.execute_reply": "2023-03-22T08:03:32.763382Z",
     "shell.execute_reply.started": "2023-03-22T08:03:31.330408Z"
    }
   },
   "outputs": [
    {
     "name": "stdout",
     "output_type": "stream",
     "text": [
      "              precision    recall  f1-score   support\n",
      "\n",
      "    negative       0.15      1.00      0.26      1438\n",
      "    positive       0.98      0.04      0.07      8349\n",
      "\n",
      "    accuracy                           0.18      9787\n",
      "   macro avg       0.57      0.52      0.17      9787\n",
      "weighted avg       0.86      0.18      0.10      9787\n",
      "\n"
     ]
    }
   ],
   "source": [
    "from sklearn import metrics\n",
    "print(metrics.classification_report(Y_test,test_predicted))"
   ]
  },
  {
   "cell_type": "code",
   "execution_count": 117,
   "metadata": {
    "execution": {
     "iopub.execute_input": "2023-03-22T08:03:32.767150Z",
     "iopub.status.busy": "2023-03-22T08:03:32.766123Z",
     "iopub.status.idle": "2023-03-22T08:03:33.198849Z",
     "shell.execute_reply": "2023-03-22T08:03:33.198058Z",
     "shell.execute_reply.started": "2023-03-22T08:03:32.767106Z"
    }
   },
   "outputs": [
    {
     "data": {
      "text/plain": [
       "<Axes: >"
      ]
     },
     "execution_count": 117,
     "metadata": {},
     "output_type": "execute_result"
    },
    {
     "data": {
      "image/png": "[encoded data removed]",
      "text/plain": [
       "<Figure size 640x480 with 2 Axes>"
      ]
     },
     "metadata": {},
     "output_type": "display_data"
    }
   ],
   "source": [
    "cm = metrics.confusion_matrix(Y_test,test_predicted)\n",
    "sn.heatmap(cm, annot=True , fmt='.2f')"
   ]
  },
  {
   "cell_type": "code",
   "execution_count": 118,
   "metadata": {
    "execution": {
     "iopub.execute_input": "2023-03-22T08:03:33.200662Z",
     "iopub.status.busy": "2023-03-22T08:03:33.200183Z",
     "iopub.status.idle": "2023-03-22T08:03:33.293933Z",
     "shell.execute_reply": "2023-03-22T08:03:33.292514Z",
     "shell.execute_reply.started": "2023-03-22T08:03:33.200633Z"
    }
   },
   "outputs": [
    {
     "name": "stdout",
     "output_type": "stream",
     "text": [
      "Accuracy of the model: 17.74803310513947%\n"
     ]
    }
   ],
   "source": [
    "print('Accuracy of the model: {0}%'.format(accuracy_score(Y_test,test_predicted)*100))"
   ]
  },
  {
   "cell_type": "code",
   "execution_count": 119,
   "metadata": {
    "execution": {
     "iopub.execute_input": "2023-03-22T08:03:33.296133Z",
     "iopub.status.busy": "2023-03-22T08:03:33.295650Z",
     "iopub.status.idle": "2023-03-22T08:03:33.304504Z",
     "shell.execute_reply": "2023-03-22T08:03:33.303158Z",
     "shell.execute_reply.started": "2023-03-22T08:03:33.296090Z"
    }
   },
   "outputs": [],
   "source": [
    "from nltk.stem import PorterStemmer\n",
    "import re\n",
    "stemmer = PorterStemmer()\n",
    "def get_stemmed_tokens(doc):\n",
    "  all_tokens = [word for word in nltk.word_tokenize(doc)]\n",
    "  clean_tokens=[]\n",
    "  for each_token in all_tokens:\n",
    "    if re.search('[a-zA-Z]',each_token):\n",
    "        clean_tokens.append(each_token)\n",
    "  stemmed_tokens = [stemmer.stem(t) for t in clean_tokens]\n",
    "  return stemmed_tokens"
   ]
  },
  {
   "cell_type": "code",
   "execution_count": 120,
   "metadata": {
    "execution": {
     "iopub.execute_input": "2023-03-22T08:03:33.306933Z",
     "iopub.status.busy": "2023-03-22T08:03:33.306437Z",
     "iopub.status.idle": "2023-03-22T08:04:34.589557Z",
     "shell.execute_reply": "2023-03-22T08:04:34.588021Z",
     "shell.execute_reply.started": "2023-03-22T08:03:33.306844Z"
    }
   },
   "outputs": [
    {
     "name": "stderr",
     "output_type": "stream",
     "text": [
      "C:\\Users\\panda\\anaconda3\\Lib\\site-packages\\sklearn\\feature_extraction\\text.py:525: UserWarning: The parameter 'token_pattern' will not be used since 'tokenizer' is not None'\n",
      "  warnings.warn(\n",
      "C:\\Users\\panda\\anaconda3\\Lib\\site-packages\\sklearn\\feature_extraction\\text.py:408: UserWarning: Your stop_words may be inconsistent with your preprocessing. Tokenizing the stop words generated tokens ['abov', 'afterward', 'alon', 'alreadi', 'alway', 'ani', 'anoth', 'anyon', 'anyth', 'anywher', 'becam', 'becaus', 'becom', 'befor', 'besid', 'cri', 'describ', 'dure', 'els', 'elsewher', 'empti', 'everi', 'everyon', 'everyth', 'everywher', 'fifti', 'formerli', 'forti', 'ha', 'henc', 'hereaft', 'herebi', 'hi', 'howev', 'hundr', 'inde', 'latterli', 'mani', 'meanwhil', 'moreov', 'mostli', 'nobodi', 'noon', 'noth', 'nowher', 'onc', 'onli', 'otherwis', 'ourselv', 'perhap', 'pleas', 'seriou', 'sever', 'sinc', 'sincer', 'sixti', 'someon', 'someth', 'sometim', 'somewher', 'themselv', 'thenc', 'thereaft', 'therebi', 'therefor', 'thi', 'thu', 'togeth', 'twelv', 'twenti', 'veri', 'wa', 'whatev', 'whenc', 'whenev', 'wherea', 'whereaft', 'wherebi', 'wherev', 'whi', 'yourselv'] not in stop_words.\n",
      "  warnings.warn(\n"
     ]
    }
   ],
   "source": [
    "tfidf_vectorizer = TfidfVectorizer(stop_words ='english' , max_features = 10000 , tokenizer=get_stemmed_tokens , ngram_range=(1,2))\n",
    "feature_vector = tfidf_vectorizer.fit(data.Review)\n",
    "data_features = tfidf_vectorizer.transform(data.Review)\n",
    "features = feature_vector.get_feature_names_out()"
   ]
  },
  {
   "cell_type": "code",
   "execution_count": 121,
   "metadata": {
    "execution": {
     "iopub.execute_input": "2023-03-22T08:04:34.592194Z",
     "iopub.status.busy": "2023-03-22T08:04:34.591687Z",
     "iopub.status.idle": "2023-03-22T08:04:45.768682Z",
     "shell.execute_reply": "2023-03-22T08:04:45.767350Z",
     "shell.execute_reply.started": "2023-03-22T08:04:34.592148Z"
    }
   },
   "outputs": [
    {
     "name": "stdout",
     "output_type": "stream",
     "text": [
      "              precision    recall  f1-score   support\n",
      "\n",
      "    negative       0.87      0.63      0.73      1438\n",
      "    positive       0.94      0.98      0.96      8349\n",
      "\n",
      "    accuracy                           0.93      9787\n",
      "   macro avg       0.90      0.80      0.84      9787\n",
      "weighted avg       0.93      0.93      0.93      9787\n",
      "\n"
     ]
    }
   ],
   "source": [
    "X_train , X_test , Y_train , Y_test = train_test_split(data_features,data.Sentiment,test_size=0.2,random_state=42)\n",
    "nb_clf3 = BernoulliNB()\n",
    "nb_clf3.fit(X_train.toarray(),Y_train)\n",
    "test_predicted = nb_clf3.predict(X_test.toarray())\n",
    "print(metrics.classification_report(Y_test,test_predicted))"
   ]
  },
  {
   "cell_type": "code",
   "execution_count": 122,
   "metadata": {
    "execution": {
     "iopub.execute_input": "2023-03-22T08:04:45.770690Z",
     "iopub.status.busy": "2023-03-22T08:04:45.770245Z",
     "iopub.status.idle": "2023-03-22T08:04:46.206585Z",
     "shell.execute_reply": "2023-03-22T08:04:46.205095Z",
     "shell.execute_reply.started": "2023-03-22T08:04:45.770659Z"
    }
   },
   "outputs": [
    {
     "data": {
      "text/plain": [
       "<Axes: >"
      ]
     },
     "execution_count": 122,
     "metadata": {},
     "output_type": "execute_result"
    },
    {
     "data": {
      "image/png": "[encoded data removed]",
      "text/plain": [
       "<Figure size 640x480 with 2 Axes>"
      ]
     },
     "metadata": {},
     "output_type": "display_data"
    }
   ],
   "source": [
    "cm = metrics.confusion_matrix(Y_test,test_predicted)\n",
    "sn.heatmap(cm, annot=True , fmt='.2f')"
   ]
  },
  {
   "cell_type": "code",
   "execution_count": 123,
   "metadata": {
    "execution": {
     "iopub.execute_input": "2023-03-22T08:04:46.208776Z",
     "iopub.status.busy": "2023-03-22T08:04:46.208455Z",
     "iopub.status.idle": "2023-03-22T08:04:46.303196Z",
     "shell.execute_reply": "2023-03-22T08:04:46.301873Z",
     "shell.execute_reply.started": "2023-03-22T08:04:46.208747Z"
    }
   },
   "outputs": [
    {
     "name": "stdout",
     "output_type": "stream",
     "text": [
      "Accuracy of the model: 93.0622254010422%\n"
     ]
    }
   ],
   "source": [
    "print('Accuracy of the model: {0}%'.format(accuracy_score(Y_test,test_predicted)*100))"
   ]
  },
  {
   "cell_type": "markdown",
   "metadata": {},
   "source": [
    "# **Predictions**"
   ]
  },
  {
   "cell_type": "code",
   "execution_count": 124,
   "metadata": {
    "execution": {
     "iopub.execute_input": "2023-03-22T08:07:08.796498Z",
     "iopub.status.busy": "2023-03-22T08:07:08.795951Z",
     "iopub.status.idle": "2023-03-22T08:07:08.808383Z",
     "shell.execute_reply": "2023-03-22T08:07:08.807149Z",
     "shell.execute_reply.started": "2023-03-22T08:07:08.796456Z"
    }
   },
   "outputs": [
    {
     "data": {
      "text/plain": [
       "array(['positive'], dtype='<U8')"
      ]
     },
     "execution_count": 124,
     "metadata": {},
     "output_type": "execute_result"
    }
   ],
   "source": [
    "x = tfidf_vectorizer.transform(['I am a good boy'])\n",
    "nb_clf3.predict(x)"
   ]
  },
  {
   "cell_type": "code",
   "execution_count": null,
   "metadata": {},
   "outputs": [],
   "source": []
  }
 ],
 "metadata": {
  "kernelspec": {
   "display_name": "Python 3 (ipykernel)",
   "language": "python",
   "name": "python3"
  },
  "language_info": {
   "codemirror_mode": {
    "name": "ipython",
    "version": 3
   },
   "file_extension": ".py",
   "mimetype": "text/x-python",
   "name": "python",
   "nbconvert_exporter": "python",
   "pygments_lexer": "ipython3",
   "version": "3.11.5"
  }
 },
 "nbformat": 4,
 "nbformat_minor": 4
}
